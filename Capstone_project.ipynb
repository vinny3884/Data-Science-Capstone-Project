{
 "cells": [
  {
   "cell_type": "code",
   "execution_count": 357,
   "id": "ebd73bb3",
   "metadata": {},
   "outputs": [
    {
     "name": "stdout",
     "output_type": "stream",
     "text": [
      "Requirement already satisfied: matplotlib in c:\\users\\lenovo1\\anaconda3\\lib\\site-packages (3.5.1)\n",
      "Requirement already satisfied: kiwisolver>=1.0.1 in c:\\users\\lenovo1\\anaconda3\\lib\\site-packages (from matplotlib) (1.3.2)\n",
      "Requirement already satisfied: fonttools>=4.22.0 in c:\\users\\lenovo1\\anaconda3\\lib\\site-packages (from matplotlib) (4.25.0)\n",
      "Requirement already satisfied: python-dateutil>=2.7 in c:\\users\\lenovo1\\anaconda3\\lib\\site-packages (from matplotlib) (2.8.2)\n",
      "Requirement already satisfied: numpy>=1.17 in c:\\users\\lenovo1\\anaconda3\\lib\\site-packages (from matplotlib) (1.21.5)\n",
      "Requirement already satisfied: pillow>=6.2.0 in c:\\users\\lenovo1\\anaconda3\\lib\\site-packages (from matplotlib) (9.0.1)\n",
      "Requirement already satisfied: packaging>=20.0 in c:\\users\\lenovo1\\anaconda3\\lib\\site-packages (from matplotlib) (21.3)\n",
      "Requirement already satisfied: pyparsing>=2.2.1 in c:\\users\\lenovo1\\anaconda3\\lib\\site-packages (from matplotlib) (3.0.4)\n",
      "Requirement already satisfied: cycler>=0.10 in c:\\users\\lenovo1\\anaconda3\\lib\\site-packages (from matplotlib) (0.11.0)\n",
      "Requirement already satisfied: six>=1.5 in c:\\users\\lenovo1\\anaconda3\\lib\\site-packages (from python-dateutil>=2.7->matplotlib) (1.16.0)\n",
      "Requirement already satisfied: sklearn in c:\\users\\lenovo1\\anaconda3\\lib\\site-packages (0.0)\n",
      "Requirement already satisfied: scikit-learn in c:\\users\\lenovo1\\anaconda3\\lib\\site-packages (from sklearn) (1.0.2)\n",
      "Requirement already satisfied: threadpoolctl>=2.0.0 in c:\\users\\lenovo1\\anaconda3\\lib\\site-packages (from scikit-learn->sklearn) (2.2.0)\n",
      "Requirement already satisfied: numpy>=1.14.6 in c:\\users\\lenovo1\\anaconda3\\lib\\site-packages (from scikit-learn->sklearn) (1.21.5)\n",
      "Requirement already satisfied: scipy>=1.1.0 in c:\\users\\lenovo1\\anaconda3\\lib\\site-packages (from scikit-learn->sklearn) (1.7.3)\n",
      "Requirement already satisfied: joblib>=0.11 in c:\\users\\lenovo1\\anaconda3\\lib\\site-packages (from scikit-learn->sklearn) (1.1.0)\n"
     ]
    }
   ],
   "source": [
    "!pip install matplotlib\n",
    "!pip install sklearn"
   ]
  },
  {
   "cell_type": "code",
   "execution_count": 358,
   "id": "aba370c4",
   "metadata": {},
   "outputs": [],
   "source": [
    "import pandas as pd\n",
    "import numpy as np\n",
    "import seaborn as sns\n",
    "import matplotlib.pyplot as plt\n",
    "import warnings\n",
    "import datetime\n",
    "# Ignore warning messages\n",
    "warnings.filterwarnings('ignore')"
   ]
  },
  {
   "cell_type": "code",
   "execution_count": 359,
   "id": "f58a172c",
   "metadata": {},
   "outputs": [
    {
     "name": "stdout",
     "output_type": "stream",
     "text": [
      "<class 'pandas.core.frame.DataFrame'>\n"
     ]
    },
    {
     "data": {
      "text/html": [
       "<div>\n",
       "<style scoped>\n",
       "    .dataframe tbody tr th:only-of-type {\n",
       "        vertical-align: middle;\n",
       "    }\n",
       "\n",
       "    .dataframe tbody tr th {\n",
       "        vertical-align: top;\n",
       "    }\n",
       "\n",
       "    .dataframe thead th {\n",
       "        text-align: right;\n",
       "    }\n",
       "</style>\n",
       "<table border=\"1\" class=\"dataframe\">\n",
       "  <thead>\n",
       "    <tr style=\"text-align: right;\">\n",
       "      <th></th>\n",
       "      <th>name</th>\n",
       "      <th>year</th>\n",
       "      <th>selling_price</th>\n",
       "      <th>km_driven</th>\n",
       "      <th>fuel</th>\n",
       "      <th>seller_type</th>\n",
       "      <th>transmission</th>\n",
       "      <th>owner</th>\n",
       "    </tr>\n",
       "  </thead>\n",
       "  <tbody>\n",
       "    <tr>\n",
       "      <th>0</th>\n",
       "      <td>Maruti 800 AC</td>\n",
       "      <td>2007</td>\n",
       "      <td>60000</td>\n",
       "      <td>70000</td>\n",
       "      <td>Petrol</td>\n",
       "      <td>Individual</td>\n",
       "      <td>Manual</td>\n",
       "      <td>First Owner</td>\n",
       "    </tr>\n",
       "    <tr>\n",
       "      <th>1</th>\n",
       "      <td>Maruti Wagon R LXI Minor</td>\n",
       "      <td>2007</td>\n",
       "      <td>135000</td>\n",
       "      <td>50000</td>\n",
       "      <td>Petrol</td>\n",
       "      <td>Individual</td>\n",
       "      <td>Manual</td>\n",
       "      <td>First Owner</td>\n",
       "    </tr>\n",
       "    <tr>\n",
       "      <th>2</th>\n",
       "      <td>Hyundai Verna 1.6 SX</td>\n",
       "      <td>2012</td>\n",
       "      <td>600000</td>\n",
       "      <td>100000</td>\n",
       "      <td>Diesel</td>\n",
       "      <td>Individual</td>\n",
       "      <td>Manual</td>\n",
       "      <td>First Owner</td>\n",
       "    </tr>\n",
       "    <tr>\n",
       "      <th>3</th>\n",
       "      <td>Datsun RediGO T Option</td>\n",
       "      <td>2017</td>\n",
       "      <td>250000</td>\n",
       "      <td>46000</td>\n",
       "      <td>Petrol</td>\n",
       "      <td>Individual</td>\n",
       "      <td>Manual</td>\n",
       "      <td>First Owner</td>\n",
       "    </tr>\n",
       "    <tr>\n",
       "      <th>4</th>\n",
       "      <td>Honda Amaze VX i-DTEC</td>\n",
       "      <td>2014</td>\n",
       "      <td>450000</td>\n",
       "      <td>141000</td>\n",
       "      <td>Diesel</td>\n",
       "      <td>Individual</td>\n",
       "      <td>Manual</td>\n",
       "      <td>Second Owner</td>\n",
       "    </tr>\n",
       "    <tr>\n",
       "      <th>5</th>\n",
       "      <td>Maruti Alto LX BSIII</td>\n",
       "      <td>2007</td>\n",
       "      <td>140000</td>\n",
       "      <td>125000</td>\n",
       "      <td>Petrol</td>\n",
       "      <td>Individual</td>\n",
       "      <td>Manual</td>\n",
       "      <td>First Owner</td>\n",
       "    </tr>\n",
       "    <tr>\n",
       "      <th>6</th>\n",
       "      <td>Hyundai Xcent 1.2 Kappa S</td>\n",
       "      <td>2016</td>\n",
       "      <td>550000</td>\n",
       "      <td>25000</td>\n",
       "      <td>Petrol</td>\n",
       "      <td>Individual</td>\n",
       "      <td>Manual</td>\n",
       "      <td>First Owner</td>\n",
       "    </tr>\n",
       "    <tr>\n",
       "      <th>7</th>\n",
       "      <td>Tata Indigo Grand Petrol</td>\n",
       "      <td>2014</td>\n",
       "      <td>240000</td>\n",
       "      <td>60000</td>\n",
       "      <td>Petrol</td>\n",
       "      <td>Individual</td>\n",
       "      <td>Manual</td>\n",
       "      <td>Second Owner</td>\n",
       "    </tr>\n",
       "    <tr>\n",
       "      <th>8</th>\n",
       "      <td>Hyundai Creta 1.6 VTVT S</td>\n",
       "      <td>2015</td>\n",
       "      <td>850000</td>\n",
       "      <td>25000</td>\n",
       "      <td>Petrol</td>\n",
       "      <td>Individual</td>\n",
       "      <td>Manual</td>\n",
       "      <td>First Owner</td>\n",
       "    </tr>\n",
       "    <tr>\n",
       "      <th>9</th>\n",
       "      <td>Maruti Celerio Green VXI</td>\n",
       "      <td>2017</td>\n",
       "      <td>365000</td>\n",
       "      <td>78000</td>\n",
       "      <td>CNG</td>\n",
       "      <td>Individual</td>\n",
       "      <td>Manual</td>\n",
       "      <td>First Owner</td>\n",
       "    </tr>\n",
       "  </tbody>\n",
       "</table>\n",
       "</div>"
      ],
      "text/plain": [
       "                        name  year  selling_price  km_driven    fuel  \\\n",
       "0              Maruti 800 AC  2007          60000      70000  Petrol   \n",
       "1   Maruti Wagon R LXI Minor  2007         135000      50000  Petrol   \n",
       "2       Hyundai Verna 1.6 SX  2012         600000     100000  Diesel   \n",
       "3     Datsun RediGO T Option  2017         250000      46000  Petrol   \n",
       "4      Honda Amaze VX i-DTEC  2014         450000     141000  Diesel   \n",
       "5       Maruti Alto LX BSIII  2007         140000     125000  Petrol   \n",
       "6  Hyundai Xcent 1.2 Kappa S  2016         550000      25000  Petrol   \n",
       "7   Tata Indigo Grand Petrol  2014         240000      60000  Petrol   \n",
       "8   Hyundai Creta 1.6 VTVT S  2015         850000      25000  Petrol   \n",
       "9   Maruti Celerio Green VXI  2017         365000      78000     CNG   \n",
       "\n",
       "  seller_type transmission         owner  \n",
       "0  Individual       Manual   First Owner  \n",
       "1  Individual       Manual   First Owner  \n",
       "2  Individual       Manual   First Owner  \n",
       "3  Individual       Manual   First Owner  \n",
       "4  Individual       Manual  Second Owner  \n",
       "5  Individual       Manual   First Owner  \n",
       "6  Individual       Manual   First Owner  \n",
       "7  Individual       Manual  Second Owner  \n",
       "8  Individual       Manual   First Owner  \n",
       "9  Individual       Manual   First Owner  "
      ]
     },
     "execution_count": 359,
     "metadata": {},
     "output_type": "execute_result"
    }
   ],
   "source": [
    "car_details = pd.read_csv(\"CAR DETAILS.csv\")\n",
    "print(type(car_details))\n",
    "car_details.head(10)"
   ]
  },
  {
   "cell_type": "code",
   "execution_count": 360,
   "id": "e02df606",
   "metadata": {},
   "outputs": [
    {
     "data": {
      "text/plain": [
       "name             object\n",
       "year              int64\n",
       "selling_price     int64\n",
       "km_driven         int64\n",
       "fuel             object\n",
       "seller_type      object\n",
       "transmission     object\n",
       "owner            object\n",
       "dtype: object"
      ]
     },
     "execution_count": 360,
     "metadata": {},
     "output_type": "execute_result"
    }
   ],
   "source": [
    "car_details.dtypes"
   ]
  },
  {
   "cell_type": "code",
   "execution_count": 361,
   "id": "935d6876",
   "metadata": {},
   "outputs": [
    {
     "data": {
      "text/plain": [
       "(4340, 8)"
      ]
     },
     "execution_count": 361,
     "metadata": {},
     "output_type": "execute_result"
    }
   ],
   "source": [
    "car_details.shape"
   ]
  },
  {
   "cell_type": "code",
   "execution_count": 362,
   "id": "9f21f86f",
   "metadata": {},
   "outputs": [
    {
     "data": {
      "text/plain": [
       "763"
      ]
     },
     "execution_count": 362,
     "metadata": {},
     "output_type": "execute_result"
    }
   ],
   "source": [
    "duplicate = car_details.duplicated()\n",
    "duplicate.sum()"
   ]
  },
  {
   "cell_type": "code",
   "execution_count": 363,
   "id": "0a49cb82",
   "metadata": {},
   "outputs": [
    {
     "data": {
      "text/html": [
       "<div>\n",
       "<style scoped>\n",
       "    .dataframe tbody tr th:only-of-type {\n",
       "        vertical-align: middle;\n",
       "    }\n",
       "\n",
       "    .dataframe tbody tr th {\n",
       "        vertical-align: top;\n",
       "    }\n",
       "\n",
       "    .dataframe thead th {\n",
       "        text-align: right;\n",
       "    }\n",
       "</style>\n",
       "<table border=\"1\" class=\"dataframe\">\n",
       "  <thead>\n",
       "    <tr style=\"text-align: right;\">\n",
       "      <th></th>\n",
       "      <th>year</th>\n",
       "      <th>selling_price</th>\n",
       "      <th>km_driven</th>\n",
       "    </tr>\n",
       "  </thead>\n",
       "  <tbody>\n",
       "    <tr>\n",
       "      <th>count</th>\n",
       "      <td>4340.000000</td>\n",
       "      <td>4.340000e+03</td>\n",
       "      <td>4340.000000</td>\n",
       "    </tr>\n",
       "    <tr>\n",
       "      <th>mean</th>\n",
       "      <td>2013.090783</td>\n",
       "      <td>5.041273e+05</td>\n",
       "      <td>66215.777419</td>\n",
       "    </tr>\n",
       "    <tr>\n",
       "      <th>std</th>\n",
       "      <td>4.215344</td>\n",
       "      <td>5.785487e+05</td>\n",
       "      <td>46644.102194</td>\n",
       "    </tr>\n",
       "    <tr>\n",
       "      <th>min</th>\n",
       "      <td>1992.000000</td>\n",
       "      <td>2.000000e+04</td>\n",
       "      <td>1.000000</td>\n",
       "    </tr>\n",
       "    <tr>\n",
       "      <th>25%</th>\n",
       "      <td>2011.000000</td>\n",
       "      <td>2.087498e+05</td>\n",
       "      <td>35000.000000</td>\n",
       "    </tr>\n",
       "    <tr>\n",
       "      <th>50%</th>\n",
       "      <td>2014.000000</td>\n",
       "      <td>3.500000e+05</td>\n",
       "      <td>60000.000000</td>\n",
       "    </tr>\n",
       "    <tr>\n",
       "      <th>75%</th>\n",
       "      <td>2016.000000</td>\n",
       "      <td>6.000000e+05</td>\n",
       "      <td>90000.000000</td>\n",
       "    </tr>\n",
       "    <tr>\n",
       "      <th>max</th>\n",
       "      <td>2020.000000</td>\n",
       "      <td>8.900000e+06</td>\n",
       "      <td>806599.000000</td>\n",
       "    </tr>\n",
       "  </tbody>\n",
       "</table>\n",
       "</div>"
      ],
      "text/plain": [
       "              year  selling_price      km_driven\n",
       "count  4340.000000   4.340000e+03    4340.000000\n",
       "mean   2013.090783   5.041273e+05   66215.777419\n",
       "std       4.215344   5.785487e+05   46644.102194\n",
       "min    1992.000000   2.000000e+04       1.000000\n",
       "25%    2011.000000   2.087498e+05   35000.000000\n",
       "50%    2014.000000   3.500000e+05   60000.000000\n",
       "75%    2016.000000   6.000000e+05   90000.000000\n",
       "max    2020.000000   8.900000e+06  806599.000000"
      ]
     },
     "execution_count": 363,
     "metadata": {},
     "output_type": "execute_result"
    }
   ],
   "source": [
    "car_details.describe()"
   ]
  },
  {
   "cell_type": "code",
   "execution_count": 364,
   "id": "285dfb97",
   "metadata": {},
   "outputs": [],
   "source": [
    "df=car_details.copy()"
   ]
  },
  {
   "cell_type": "code",
   "execution_count": 365,
   "id": "60347271",
   "metadata": {},
   "outputs": [],
   "source": [
    "car_details.drop_duplicates(inplace=True)"
   ]
  },
  {
   "cell_type": "code",
   "execution_count": 366,
   "id": "a9b6e01b",
   "metadata": {},
   "outputs": [
    {
     "data": {
      "text/html": [
       "<div>\n",
       "<style scoped>\n",
       "    .dataframe tbody tr th:only-of-type {\n",
       "        vertical-align: middle;\n",
       "    }\n",
       "\n",
       "    .dataframe tbody tr th {\n",
       "        vertical-align: top;\n",
       "    }\n",
       "\n",
       "    .dataframe thead th {\n",
       "        text-align: right;\n",
       "    }\n",
       "</style>\n",
       "<table border=\"1\" class=\"dataframe\">\n",
       "  <thead>\n",
       "    <tr style=\"text-align: right;\">\n",
       "      <th></th>\n",
       "      <th>name</th>\n",
       "      <th>year</th>\n",
       "      <th>selling_price</th>\n",
       "      <th>km_driven</th>\n",
       "      <th>fuel</th>\n",
       "      <th>seller_type</th>\n",
       "      <th>transmission</th>\n",
       "      <th>owner</th>\n",
       "    </tr>\n",
       "  </thead>\n",
       "  <tbody>\n",
       "    <tr>\n",
       "      <th>0</th>\n",
       "      <td>Maruti 800 AC</td>\n",
       "      <td>2007</td>\n",
       "      <td>60000</td>\n",
       "      <td>70000</td>\n",
       "      <td>Petrol</td>\n",
       "      <td>Individual</td>\n",
       "      <td>Manual</td>\n",
       "      <td>First Owner</td>\n",
       "    </tr>\n",
       "    <tr>\n",
       "      <th>1</th>\n",
       "      <td>Maruti Wagon R LXI Minor</td>\n",
       "      <td>2007</td>\n",
       "      <td>135000</td>\n",
       "      <td>50000</td>\n",
       "      <td>Petrol</td>\n",
       "      <td>Individual</td>\n",
       "      <td>Manual</td>\n",
       "      <td>First Owner</td>\n",
       "    </tr>\n",
       "    <tr>\n",
       "      <th>2</th>\n",
       "      <td>Hyundai Verna 1.6 SX</td>\n",
       "      <td>2012</td>\n",
       "      <td>600000</td>\n",
       "      <td>100000</td>\n",
       "      <td>Diesel</td>\n",
       "      <td>Individual</td>\n",
       "      <td>Manual</td>\n",
       "      <td>First Owner</td>\n",
       "    </tr>\n",
       "    <tr>\n",
       "      <th>3</th>\n",
       "      <td>Datsun RediGO T Option</td>\n",
       "      <td>2017</td>\n",
       "      <td>250000</td>\n",
       "      <td>46000</td>\n",
       "      <td>Petrol</td>\n",
       "      <td>Individual</td>\n",
       "      <td>Manual</td>\n",
       "      <td>First Owner</td>\n",
       "    </tr>\n",
       "    <tr>\n",
       "      <th>4</th>\n",
       "      <td>Honda Amaze VX i-DTEC</td>\n",
       "      <td>2014</td>\n",
       "      <td>450000</td>\n",
       "      <td>141000</td>\n",
       "      <td>Diesel</td>\n",
       "      <td>Individual</td>\n",
       "      <td>Manual</td>\n",
       "      <td>Second Owner</td>\n",
       "    </tr>\n",
       "  </tbody>\n",
       "</table>\n",
       "</div>"
      ],
      "text/plain": [
       "                       name  year  selling_price  km_driven    fuel  \\\n",
       "0             Maruti 800 AC  2007          60000      70000  Petrol   \n",
       "1  Maruti Wagon R LXI Minor  2007         135000      50000  Petrol   \n",
       "2      Hyundai Verna 1.6 SX  2012         600000     100000  Diesel   \n",
       "3    Datsun RediGO T Option  2017         250000      46000  Petrol   \n",
       "4     Honda Amaze VX i-DTEC  2014         450000     141000  Diesel   \n",
       "\n",
       "  seller_type transmission         owner  \n",
       "0  Individual       Manual   First Owner  \n",
       "1  Individual       Manual   First Owner  \n",
       "2  Individual       Manual   First Owner  \n",
       "3  Individual       Manual   First Owner  \n",
       "4  Individual       Manual  Second Owner  "
      ]
     },
     "execution_count": 366,
     "metadata": {},
     "output_type": "execute_result"
    }
   ],
   "source": [
    "car_details.head()"
   ]
  },
  {
   "cell_type": "code",
   "execution_count": 367,
   "id": "e4497b5b",
   "metadata": {},
   "outputs": [
    {
     "data": {
      "text/plain": [
       "(3577, 8)"
      ]
     },
     "execution_count": 367,
     "metadata": {},
     "output_type": "execute_result"
    }
   ],
   "source": [
    "car_details.shape"
   ]
  },
  {
   "cell_type": "markdown",
   "id": "1e27d898",
   "metadata": {},
   "source": [
    "### Feature engineering"
   ]
  },
  {
   "cell_type": "code",
   "execution_count": 368,
   "id": "050473fa",
   "metadata": {},
   "outputs": [],
   "source": [
    "#Convert 'year' to number of years car used till today\n",
    "#current_year = pd.to_datetime('today').year\n",
    "#car_details['year'] = current_year - car_details['year']"
   ]
  },
  {
   "cell_type": "code",
   "execution_count": 369,
   "id": "c1fd52b3",
   "metadata": {},
   "outputs": [],
   "source": [
    "#car_details[['manufacturer', 'model']] = car_details['name'].str.split(' ', 1, expand=True)"
   ]
  },
  {
   "cell_type": "code",
   "execution_count": 370,
   "id": "1165e0a2",
   "metadata": {},
   "outputs": [],
   "source": [
    "#Split the name column into manufacturer and model\n",
    "#car_details['manufacturer'] = car_details['name'].apply(lambda x: x.split(' ', 1)[0])\n",
    "#car_details['model'] = car_details['model'].apply(lambda x: x.split(' ', 1)[0] if len(x.split(' ')) > 0 else '')"
   ]
  },
  {
   "cell_type": "code",
   "execution_count": 371,
   "id": "e6d7d567",
   "metadata": {},
   "outputs": [
    {
     "data": {
      "text/html": [
       "<div>\n",
       "<style scoped>\n",
       "    .dataframe tbody tr th:only-of-type {\n",
       "        vertical-align: middle;\n",
       "    }\n",
       "\n",
       "    .dataframe tbody tr th {\n",
       "        vertical-align: top;\n",
       "    }\n",
       "\n",
       "    .dataframe thead th {\n",
       "        text-align: right;\n",
       "    }\n",
       "</style>\n",
       "<table border=\"1\" class=\"dataframe\">\n",
       "  <thead>\n",
       "    <tr style=\"text-align: right;\">\n",
       "      <th></th>\n",
       "      <th>name</th>\n",
       "      <th>year</th>\n",
       "      <th>selling_price</th>\n",
       "      <th>km_driven</th>\n",
       "      <th>fuel</th>\n",
       "      <th>seller_type</th>\n",
       "      <th>transmission</th>\n",
       "      <th>owner</th>\n",
       "    </tr>\n",
       "  </thead>\n",
       "  <tbody>\n",
       "    <tr>\n",
       "      <th>0</th>\n",
       "      <td>Maruti 800 AC</td>\n",
       "      <td>2007</td>\n",
       "      <td>60000</td>\n",
       "      <td>70000</td>\n",
       "      <td>Petrol</td>\n",
       "      <td>Individual</td>\n",
       "      <td>Manual</td>\n",
       "      <td>First Owner</td>\n",
       "    </tr>\n",
       "    <tr>\n",
       "      <th>1</th>\n",
       "      <td>Maruti Wagon R LXI Minor</td>\n",
       "      <td>2007</td>\n",
       "      <td>135000</td>\n",
       "      <td>50000</td>\n",
       "      <td>Petrol</td>\n",
       "      <td>Individual</td>\n",
       "      <td>Manual</td>\n",
       "      <td>First Owner</td>\n",
       "    </tr>\n",
       "    <tr>\n",
       "      <th>2</th>\n",
       "      <td>Hyundai Verna 1.6 SX</td>\n",
       "      <td>2012</td>\n",
       "      <td>600000</td>\n",
       "      <td>100000</td>\n",
       "      <td>Diesel</td>\n",
       "      <td>Individual</td>\n",
       "      <td>Manual</td>\n",
       "      <td>First Owner</td>\n",
       "    </tr>\n",
       "    <tr>\n",
       "      <th>3</th>\n",
       "      <td>Datsun RediGO T Option</td>\n",
       "      <td>2017</td>\n",
       "      <td>250000</td>\n",
       "      <td>46000</td>\n",
       "      <td>Petrol</td>\n",
       "      <td>Individual</td>\n",
       "      <td>Manual</td>\n",
       "      <td>First Owner</td>\n",
       "    </tr>\n",
       "    <tr>\n",
       "      <th>4</th>\n",
       "      <td>Honda Amaze VX i-DTEC</td>\n",
       "      <td>2014</td>\n",
       "      <td>450000</td>\n",
       "      <td>141000</td>\n",
       "      <td>Diesel</td>\n",
       "      <td>Individual</td>\n",
       "      <td>Manual</td>\n",
       "      <td>Second Owner</td>\n",
       "    </tr>\n",
       "  </tbody>\n",
       "</table>\n",
       "</div>"
      ],
      "text/plain": [
       "                       name  year  selling_price  km_driven    fuel  \\\n",
       "0             Maruti 800 AC  2007          60000      70000  Petrol   \n",
       "1  Maruti Wagon R LXI Minor  2007         135000      50000  Petrol   \n",
       "2      Hyundai Verna 1.6 SX  2012         600000     100000  Diesel   \n",
       "3    Datsun RediGO T Option  2017         250000      46000  Petrol   \n",
       "4     Honda Amaze VX i-DTEC  2014         450000     141000  Diesel   \n",
       "\n",
       "  seller_type transmission         owner  \n",
       "0  Individual       Manual   First Owner  \n",
       "1  Individual       Manual   First Owner  \n",
       "2  Individual       Manual   First Owner  \n",
       "3  Individual       Manual   First Owner  \n",
       "4  Individual       Manual  Second Owner  "
      ]
     },
     "execution_count": 371,
     "metadata": {},
     "output_type": "execute_result"
    }
   ],
   "source": [
    "car_details.head()"
   ]
  },
  {
   "cell_type": "code",
   "execution_count": 372,
   "id": "428dd28a",
   "metadata": {},
   "outputs": [],
   "source": [
    "car_details.drop(['name'],axis=1,inplace=True)"
   ]
  },
  {
   "cell_type": "code",
   "execution_count": 373,
   "id": "73fe1fa3",
   "metadata": {},
   "outputs": [
    {
     "data": {
      "text/plain": [
       "year             0\n",
       "selling_price    0\n",
       "km_driven        0\n",
       "fuel             0\n",
       "seller_type      0\n",
       "transmission     0\n",
       "owner            0\n",
       "dtype: int64"
      ]
     },
     "execution_count": 373,
     "metadata": {},
     "output_type": "execute_result"
    }
   ],
   "source": [
    "null_values = car_details.isnull().sum()\n",
    "null_values"
   ]
  },
  {
   "cell_type": "code",
   "execution_count": 374,
   "id": "07950461",
   "metadata": {},
   "outputs": [
    {
     "data": {
      "text/html": [
       "<div>\n",
       "<style scoped>\n",
       "    .dataframe tbody tr th:only-of-type {\n",
       "        vertical-align: middle;\n",
       "    }\n",
       "\n",
       "    .dataframe tbody tr th {\n",
       "        vertical-align: top;\n",
       "    }\n",
       "\n",
       "    .dataframe thead th {\n",
       "        text-align: right;\n",
       "    }\n",
       "</style>\n",
       "<table border=\"1\" class=\"dataframe\">\n",
       "  <thead>\n",
       "    <tr style=\"text-align: right;\">\n",
       "      <th></th>\n",
       "      <th>year</th>\n",
       "      <th>selling_price</th>\n",
       "      <th>km_driven</th>\n",
       "      <th>fuel</th>\n",
       "      <th>seller_type</th>\n",
       "      <th>transmission</th>\n",
       "      <th>owner</th>\n",
       "    </tr>\n",
       "  </thead>\n",
       "  <tbody>\n",
       "    <tr>\n",
       "      <th>0</th>\n",
       "      <td>2007</td>\n",
       "      <td>60000</td>\n",
       "      <td>70000</td>\n",
       "      <td>Petrol</td>\n",
       "      <td>Individual</td>\n",
       "      <td>Manual</td>\n",
       "      <td>First Owner</td>\n",
       "    </tr>\n",
       "    <tr>\n",
       "      <th>1</th>\n",
       "      <td>2007</td>\n",
       "      <td>135000</td>\n",
       "      <td>50000</td>\n",
       "      <td>Petrol</td>\n",
       "      <td>Individual</td>\n",
       "      <td>Manual</td>\n",
       "      <td>First Owner</td>\n",
       "    </tr>\n",
       "    <tr>\n",
       "      <th>2</th>\n",
       "      <td>2012</td>\n",
       "      <td>600000</td>\n",
       "      <td>100000</td>\n",
       "      <td>Diesel</td>\n",
       "      <td>Individual</td>\n",
       "      <td>Manual</td>\n",
       "      <td>First Owner</td>\n",
       "    </tr>\n",
       "    <tr>\n",
       "      <th>3</th>\n",
       "      <td>2017</td>\n",
       "      <td>250000</td>\n",
       "      <td>46000</td>\n",
       "      <td>Petrol</td>\n",
       "      <td>Individual</td>\n",
       "      <td>Manual</td>\n",
       "      <td>First Owner</td>\n",
       "    </tr>\n",
       "    <tr>\n",
       "      <th>4</th>\n",
       "      <td>2014</td>\n",
       "      <td>450000</td>\n",
       "      <td>141000</td>\n",
       "      <td>Diesel</td>\n",
       "      <td>Individual</td>\n",
       "      <td>Manual</td>\n",
       "      <td>Second Owner</td>\n",
       "    </tr>\n",
       "  </tbody>\n",
       "</table>\n",
       "</div>"
      ],
      "text/plain": [
       "   year  selling_price  km_driven    fuel seller_type transmission  \\\n",
       "0  2007          60000      70000  Petrol  Individual       Manual   \n",
       "1  2007         135000      50000  Petrol  Individual       Manual   \n",
       "2  2012         600000     100000  Diesel  Individual       Manual   \n",
       "3  2017         250000      46000  Petrol  Individual       Manual   \n",
       "4  2014         450000     141000  Diesel  Individual       Manual   \n",
       "\n",
       "          owner  \n",
       "0   First Owner  \n",
       "1   First Owner  \n",
       "2   First Owner  \n",
       "3   First Owner  \n",
       "4  Second Owner  "
      ]
     },
     "execution_count": 374,
     "metadata": {},
     "output_type": "execute_result"
    }
   ],
   "source": [
    "car_details.head()"
   ]
  },
  {
   "cell_type": "code",
   "execution_count": 375,
   "id": "e676ac32",
   "metadata": {},
   "outputs": [
    {
     "data": {
      "text/plain": [
       "0       Manual\n",
       "1       Manual\n",
       "2       Manual\n",
       "3       Manual\n",
       "4       Manual\n",
       "         ...  \n",
       "4335    Manual\n",
       "4336    Manual\n",
       "4337    Manual\n",
       "4338    Manual\n",
       "4339    Manual\n",
       "Name: transmission, Length: 3577, dtype: object"
      ]
     },
     "execution_count": 375,
     "metadata": {},
     "output_type": "execute_result"
    }
   ],
   "source": [
    "car_details['transmission']"
   ]
  },
  {
   "cell_type": "markdown",
   "id": "b0bbef56",
   "metadata": {},
   "source": [
    "### Data Preprocessing"
   ]
  },
  {
   "cell_type": "code",
   "execution_count": 376,
   "id": "d5980e36",
   "metadata": {},
   "outputs": [],
   "source": [
    "from sklearn.impute import SimpleImputer"
   ]
  },
  {
   "cell_type": "code",
   "execution_count": 377,
   "id": "7eda837b",
   "metadata": {},
   "outputs": [],
   "source": [
    "# Perform imputation for numerical features\n",
    "imputer = SimpleImputer(strategy='median')\n",
    "car_details['km_driven'] = imputer.fit_transform(car_details[['km_driven']])"
   ]
  },
  {
   "cell_type": "code",
   "execution_count": 378,
   "id": "52e652d2",
   "metadata": {},
   "outputs": [],
   "source": [
    "# Perform imputation for categorical features\n",
    "imputer = SimpleImputer(strategy='most_frequent')\n",
    "car_details[['fuel', 'seller_type', 'transmission', 'owner']] = imputer.fit_transform(car_details[['fuel', 'seller_type', 'transmission', 'owner']])"
   ]
  },
  {
   "cell_type": "code",
   "execution_count": 379,
   "id": "676ae2dc",
   "metadata": {},
   "outputs": [
    {
     "data": {
      "text/html": [
       "<div>\n",
       "<style scoped>\n",
       "    .dataframe tbody tr th:only-of-type {\n",
       "        vertical-align: middle;\n",
       "    }\n",
       "\n",
       "    .dataframe tbody tr th {\n",
       "        vertical-align: top;\n",
       "    }\n",
       "\n",
       "    .dataframe thead th {\n",
       "        text-align: right;\n",
       "    }\n",
       "</style>\n",
       "<table border=\"1\" class=\"dataframe\">\n",
       "  <thead>\n",
       "    <tr style=\"text-align: right;\">\n",
       "      <th></th>\n",
       "      <th>year</th>\n",
       "      <th>selling_price</th>\n",
       "      <th>km_driven</th>\n",
       "      <th>fuel</th>\n",
       "      <th>seller_type</th>\n",
       "      <th>transmission</th>\n",
       "      <th>owner</th>\n",
       "    </tr>\n",
       "  </thead>\n",
       "  <tbody>\n",
       "    <tr>\n",
       "      <th>0</th>\n",
       "      <td>2007</td>\n",
       "      <td>60000</td>\n",
       "      <td>70000.0</td>\n",
       "      <td>Petrol</td>\n",
       "      <td>Individual</td>\n",
       "      <td>Manual</td>\n",
       "      <td>First Owner</td>\n",
       "    </tr>\n",
       "    <tr>\n",
       "      <th>1</th>\n",
       "      <td>2007</td>\n",
       "      <td>135000</td>\n",
       "      <td>50000.0</td>\n",
       "      <td>Petrol</td>\n",
       "      <td>Individual</td>\n",
       "      <td>Manual</td>\n",
       "      <td>First Owner</td>\n",
       "    </tr>\n",
       "    <tr>\n",
       "      <th>2</th>\n",
       "      <td>2012</td>\n",
       "      <td>600000</td>\n",
       "      <td>100000.0</td>\n",
       "      <td>Diesel</td>\n",
       "      <td>Individual</td>\n",
       "      <td>Manual</td>\n",
       "      <td>First Owner</td>\n",
       "    </tr>\n",
       "    <tr>\n",
       "      <th>3</th>\n",
       "      <td>2017</td>\n",
       "      <td>250000</td>\n",
       "      <td>46000.0</td>\n",
       "      <td>Petrol</td>\n",
       "      <td>Individual</td>\n",
       "      <td>Manual</td>\n",
       "      <td>First Owner</td>\n",
       "    </tr>\n",
       "    <tr>\n",
       "      <th>4</th>\n",
       "      <td>2014</td>\n",
       "      <td>450000</td>\n",
       "      <td>141000.0</td>\n",
       "      <td>Diesel</td>\n",
       "      <td>Individual</td>\n",
       "      <td>Manual</td>\n",
       "      <td>Second Owner</td>\n",
       "    </tr>\n",
       "  </tbody>\n",
       "</table>\n",
       "</div>"
      ],
      "text/plain": [
       "   year  selling_price  km_driven    fuel seller_type transmission  \\\n",
       "0  2007          60000    70000.0  Petrol  Individual       Manual   \n",
       "1  2007         135000    50000.0  Petrol  Individual       Manual   \n",
       "2  2012         600000   100000.0  Diesel  Individual       Manual   \n",
       "3  2017         250000    46000.0  Petrol  Individual       Manual   \n",
       "4  2014         450000   141000.0  Diesel  Individual       Manual   \n",
       "\n",
       "          owner  \n",
       "0   First Owner  \n",
       "1   First Owner  \n",
       "2   First Owner  \n",
       "3   First Owner  \n",
       "4  Second Owner  "
      ]
     },
     "execution_count": 379,
     "metadata": {},
     "output_type": "execute_result"
    }
   ],
   "source": [
    "car_details.head()"
   ]
  },
  {
   "cell_type": "code",
   "execution_count": 380,
   "id": "368a0ff8",
   "metadata": {},
   "outputs": [],
   "source": [
    "#car_details['fuel'].replace(['Petrol','Diesel','LPG','CNG','Electric'],[1,2,3,4,5], inplace=True)\n",
    "#car_details['seller_type'].replace(['Individual','Dealer','Trustmark Dealer'],[1,2,3], inplace=True)\n",
    "#car_details['transmission'].replace(['Manual','Automatic'],[0,1], inplace=True)\n",
    "#car_details['owner'].replace(['First Owner','Second Owner','Third Owner','Fourth & Above Owner','Test Drive Car'],[1,2,3,4,0], inplace=True)\n"
   ]
  },
  {
   "cell_type": "code",
   "execution_count": 381,
   "id": "f484f42e",
   "metadata": {},
   "outputs": [
    {
     "data": {
      "text/html": [
       "<div>\n",
       "<style scoped>\n",
       "    .dataframe tbody tr th:only-of-type {\n",
       "        vertical-align: middle;\n",
       "    }\n",
       "\n",
       "    .dataframe tbody tr th {\n",
       "        vertical-align: top;\n",
       "    }\n",
       "\n",
       "    .dataframe thead th {\n",
       "        text-align: right;\n",
       "    }\n",
       "</style>\n",
       "<table border=\"1\" class=\"dataframe\">\n",
       "  <thead>\n",
       "    <tr style=\"text-align: right;\">\n",
       "      <th></th>\n",
       "      <th>year</th>\n",
       "      <th>selling_price</th>\n",
       "      <th>km_driven</th>\n",
       "      <th>fuel</th>\n",
       "      <th>seller_type</th>\n",
       "      <th>transmission</th>\n",
       "      <th>owner</th>\n",
       "    </tr>\n",
       "  </thead>\n",
       "  <tbody>\n",
       "    <tr>\n",
       "      <th>0</th>\n",
       "      <td>2007</td>\n",
       "      <td>60000</td>\n",
       "      <td>70000.0</td>\n",
       "      <td>Petrol</td>\n",
       "      <td>Individual</td>\n",
       "      <td>Manual</td>\n",
       "      <td>First Owner</td>\n",
       "    </tr>\n",
       "    <tr>\n",
       "      <th>1</th>\n",
       "      <td>2007</td>\n",
       "      <td>135000</td>\n",
       "      <td>50000.0</td>\n",
       "      <td>Petrol</td>\n",
       "      <td>Individual</td>\n",
       "      <td>Manual</td>\n",
       "      <td>First Owner</td>\n",
       "    </tr>\n",
       "    <tr>\n",
       "      <th>2</th>\n",
       "      <td>2012</td>\n",
       "      <td>600000</td>\n",
       "      <td>100000.0</td>\n",
       "      <td>Diesel</td>\n",
       "      <td>Individual</td>\n",
       "      <td>Manual</td>\n",
       "      <td>First Owner</td>\n",
       "    </tr>\n",
       "    <tr>\n",
       "      <th>3</th>\n",
       "      <td>2017</td>\n",
       "      <td>250000</td>\n",
       "      <td>46000.0</td>\n",
       "      <td>Petrol</td>\n",
       "      <td>Individual</td>\n",
       "      <td>Manual</td>\n",
       "      <td>First Owner</td>\n",
       "    </tr>\n",
       "    <tr>\n",
       "      <th>4</th>\n",
       "      <td>2014</td>\n",
       "      <td>450000</td>\n",
       "      <td>141000.0</td>\n",
       "      <td>Diesel</td>\n",
       "      <td>Individual</td>\n",
       "      <td>Manual</td>\n",
       "      <td>Second Owner</td>\n",
       "    </tr>\n",
       "  </tbody>\n",
       "</table>\n",
       "</div>"
      ],
      "text/plain": [
       "   year  selling_price  km_driven    fuel seller_type transmission  \\\n",
       "0  2007          60000    70000.0  Petrol  Individual       Manual   \n",
       "1  2007         135000    50000.0  Petrol  Individual       Manual   \n",
       "2  2012         600000   100000.0  Diesel  Individual       Manual   \n",
       "3  2017         250000    46000.0  Petrol  Individual       Manual   \n",
       "4  2014         450000   141000.0  Diesel  Individual       Manual   \n",
       "\n",
       "          owner  \n",
       "0   First Owner  \n",
       "1   First Owner  \n",
       "2   First Owner  \n",
       "3   First Owner  \n",
       "4  Second Owner  "
      ]
     },
     "execution_count": 381,
     "metadata": {},
     "output_type": "execute_result"
    }
   ],
   "source": [
    "car_details.head()"
   ]
  },
  {
   "cell_type": "code",
   "execution_count": 382,
   "id": "5b8f0309",
   "metadata": {},
   "outputs": [],
   "source": [
    "#car_encoded = car_details.copy()"
   ]
  },
  {
   "cell_type": "code",
   "execution_count": 383,
   "id": "92769b98",
   "metadata": {},
   "outputs": [],
   "source": [
    "# One-hot encoding for categorical features\n",
    "car_encoded = pd.get_dummies(car_details, drop_first=True)"
   ]
  },
  {
   "cell_type": "code",
   "execution_count": 384,
   "id": "3c852194",
   "metadata": {},
   "outputs": [
    {
     "data": {
      "text/html": [
       "<div>\n",
       "<style scoped>\n",
       "    .dataframe tbody tr th:only-of-type {\n",
       "        vertical-align: middle;\n",
       "    }\n",
       "\n",
       "    .dataframe tbody tr th {\n",
       "        vertical-align: top;\n",
       "    }\n",
       "\n",
       "    .dataframe thead th {\n",
       "        text-align: right;\n",
       "    }\n",
       "</style>\n",
       "<table border=\"1\" class=\"dataframe\">\n",
       "  <thead>\n",
       "    <tr style=\"text-align: right;\">\n",
       "      <th></th>\n",
       "      <th>year</th>\n",
       "      <th>selling_price</th>\n",
       "      <th>km_driven</th>\n",
       "      <th>fuel_Diesel</th>\n",
       "      <th>fuel_Electric</th>\n",
       "      <th>fuel_LPG</th>\n",
       "      <th>fuel_Petrol</th>\n",
       "      <th>seller_type_Individual</th>\n",
       "      <th>seller_type_Trustmark Dealer</th>\n",
       "      <th>transmission_Manual</th>\n",
       "      <th>owner_Fourth &amp; Above Owner</th>\n",
       "      <th>owner_Second Owner</th>\n",
       "      <th>owner_Test Drive Car</th>\n",
       "      <th>owner_Third Owner</th>\n",
       "    </tr>\n",
       "  </thead>\n",
       "  <tbody>\n",
       "    <tr>\n",
       "      <th>0</th>\n",
       "      <td>2007</td>\n",
       "      <td>60000</td>\n",
       "      <td>70000.0</td>\n",
       "      <td>0</td>\n",
       "      <td>0</td>\n",
       "      <td>0</td>\n",
       "      <td>1</td>\n",
       "      <td>1</td>\n",
       "      <td>0</td>\n",
       "      <td>1</td>\n",
       "      <td>0</td>\n",
       "      <td>0</td>\n",
       "      <td>0</td>\n",
       "      <td>0</td>\n",
       "    </tr>\n",
       "    <tr>\n",
       "      <th>1</th>\n",
       "      <td>2007</td>\n",
       "      <td>135000</td>\n",
       "      <td>50000.0</td>\n",
       "      <td>0</td>\n",
       "      <td>0</td>\n",
       "      <td>0</td>\n",
       "      <td>1</td>\n",
       "      <td>1</td>\n",
       "      <td>0</td>\n",
       "      <td>1</td>\n",
       "      <td>0</td>\n",
       "      <td>0</td>\n",
       "      <td>0</td>\n",
       "      <td>0</td>\n",
       "    </tr>\n",
       "    <tr>\n",
       "      <th>2</th>\n",
       "      <td>2012</td>\n",
       "      <td>600000</td>\n",
       "      <td>100000.0</td>\n",
       "      <td>1</td>\n",
       "      <td>0</td>\n",
       "      <td>0</td>\n",
       "      <td>0</td>\n",
       "      <td>1</td>\n",
       "      <td>0</td>\n",
       "      <td>1</td>\n",
       "      <td>0</td>\n",
       "      <td>0</td>\n",
       "      <td>0</td>\n",
       "      <td>0</td>\n",
       "    </tr>\n",
       "    <tr>\n",
       "      <th>3</th>\n",
       "      <td>2017</td>\n",
       "      <td>250000</td>\n",
       "      <td>46000.0</td>\n",
       "      <td>0</td>\n",
       "      <td>0</td>\n",
       "      <td>0</td>\n",
       "      <td>1</td>\n",
       "      <td>1</td>\n",
       "      <td>0</td>\n",
       "      <td>1</td>\n",
       "      <td>0</td>\n",
       "      <td>0</td>\n",
       "      <td>0</td>\n",
       "      <td>0</td>\n",
       "    </tr>\n",
       "    <tr>\n",
       "      <th>4</th>\n",
       "      <td>2014</td>\n",
       "      <td>450000</td>\n",
       "      <td>141000.0</td>\n",
       "      <td>1</td>\n",
       "      <td>0</td>\n",
       "      <td>0</td>\n",
       "      <td>0</td>\n",
       "      <td>1</td>\n",
       "      <td>0</td>\n",
       "      <td>1</td>\n",
       "      <td>0</td>\n",
       "      <td>1</td>\n",
       "      <td>0</td>\n",
       "      <td>0</td>\n",
       "    </tr>\n",
       "    <tr>\n",
       "      <th>...</th>\n",
       "      <td>...</td>\n",
       "      <td>...</td>\n",
       "      <td>...</td>\n",
       "      <td>...</td>\n",
       "      <td>...</td>\n",
       "      <td>...</td>\n",
       "      <td>...</td>\n",
       "      <td>...</td>\n",
       "      <td>...</td>\n",
       "      <td>...</td>\n",
       "      <td>...</td>\n",
       "      <td>...</td>\n",
       "      <td>...</td>\n",
       "      <td>...</td>\n",
       "    </tr>\n",
       "    <tr>\n",
       "      <th>4335</th>\n",
       "      <td>2014</td>\n",
       "      <td>409999</td>\n",
       "      <td>80000.0</td>\n",
       "      <td>1</td>\n",
       "      <td>0</td>\n",
       "      <td>0</td>\n",
       "      <td>0</td>\n",
       "      <td>1</td>\n",
       "      <td>0</td>\n",
       "      <td>1</td>\n",
       "      <td>0</td>\n",
       "      <td>1</td>\n",
       "      <td>0</td>\n",
       "      <td>0</td>\n",
       "    </tr>\n",
       "    <tr>\n",
       "      <th>4336</th>\n",
       "      <td>2014</td>\n",
       "      <td>409999</td>\n",
       "      <td>80000.0</td>\n",
       "      <td>1</td>\n",
       "      <td>0</td>\n",
       "      <td>0</td>\n",
       "      <td>0</td>\n",
       "      <td>1</td>\n",
       "      <td>0</td>\n",
       "      <td>1</td>\n",
       "      <td>0</td>\n",
       "      <td>1</td>\n",
       "      <td>0</td>\n",
       "      <td>0</td>\n",
       "    </tr>\n",
       "    <tr>\n",
       "      <th>4337</th>\n",
       "      <td>2009</td>\n",
       "      <td>110000</td>\n",
       "      <td>83000.0</td>\n",
       "      <td>0</td>\n",
       "      <td>0</td>\n",
       "      <td>0</td>\n",
       "      <td>1</td>\n",
       "      <td>1</td>\n",
       "      <td>0</td>\n",
       "      <td>1</td>\n",
       "      <td>0</td>\n",
       "      <td>1</td>\n",
       "      <td>0</td>\n",
       "      <td>0</td>\n",
       "    </tr>\n",
       "    <tr>\n",
       "      <th>4338</th>\n",
       "      <td>2016</td>\n",
       "      <td>865000</td>\n",
       "      <td>90000.0</td>\n",
       "      <td>1</td>\n",
       "      <td>0</td>\n",
       "      <td>0</td>\n",
       "      <td>0</td>\n",
       "      <td>1</td>\n",
       "      <td>0</td>\n",
       "      <td>1</td>\n",
       "      <td>0</td>\n",
       "      <td>0</td>\n",
       "      <td>0</td>\n",
       "      <td>0</td>\n",
       "    </tr>\n",
       "    <tr>\n",
       "      <th>4339</th>\n",
       "      <td>2016</td>\n",
       "      <td>225000</td>\n",
       "      <td>40000.0</td>\n",
       "      <td>0</td>\n",
       "      <td>0</td>\n",
       "      <td>0</td>\n",
       "      <td>1</td>\n",
       "      <td>1</td>\n",
       "      <td>0</td>\n",
       "      <td>1</td>\n",
       "      <td>0</td>\n",
       "      <td>0</td>\n",
       "      <td>0</td>\n",
       "      <td>0</td>\n",
       "    </tr>\n",
       "  </tbody>\n",
       "</table>\n",
       "<p>3577 rows × 14 columns</p>\n",
       "</div>"
      ],
      "text/plain": [
       "      year  selling_price  km_driven  fuel_Diesel  fuel_Electric  fuel_LPG  \\\n",
       "0     2007          60000    70000.0            0              0         0   \n",
       "1     2007         135000    50000.0            0              0         0   \n",
       "2     2012         600000   100000.0            1              0         0   \n",
       "3     2017         250000    46000.0            0              0         0   \n",
       "4     2014         450000   141000.0            1              0         0   \n",
       "...    ...            ...        ...          ...            ...       ...   \n",
       "4335  2014         409999    80000.0            1              0         0   \n",
       "4336  2014         409999    80000.0            1              0         0   \n",
       "4337  2009         110000    83000.0            0              0         0   \n",
       "4338  2016         865000    90000.0            1              0         0   \n",
       "4339  2016         225000    40000.0            0              0         0   \n",
       "\n",
       "      fuel_Petrol  seller_type_Individual  seller_type_Trustmark Dealer  \\\n",
       "0               1                       1                             0   \n",
       "1               1                       1                             0   \n",
       "2               0                       1                             0   \n",
       "3               1                       1                             0   \n",
       "4               0                       1                             0   \n",
       "...           ...                     ...                           ...   \n",
       "4335            0                       1                             0   \n",
       "4336            0                       1                             0   \n",
       "4337            1                       1                             0   \n",
       "4338            0                       1                             0   \n",
       "4339            1                       1                             0   \n",
       "\n",
       "      transmission_Manual  owner_Fourth & Above Owner  owner_Second Owner  \\\n",
       "0                       1                           0                   0   \n",
       "1                       1                           0                   0   \n",
       "2                       1                           0                   0   \n",
       "3                       1                           0                   0   \n",
       "4                       1                           0                   1   \n",
       "...                   ...                         ...                 ...   \n",
       "4335                    1                           0                   1   \n",
       "4336                    1                           0                   1   \n",
       "4337                    1                           0                   1   \n",
       "4338                    1                           0                   0   \n",
       "4339                    1                           0                   0   \n",
       "\n",
       "      owner_Test Drive Car  owner_Third Owner  \n",
       "0                        0                  0  \n",
       "1                        0                  0  \n",
       "2                        0                  0  \n",
       "3                        0                  0  \n",
       "4                        0                  0  \n",
       "...                    ...                ...  \n",
       "4335                     0                  0  \n",
       "4336                     0                  0  \n",
       "4337                     0                  0  \n",
       "4338                     0                  0  \n",
       "4339                     0                  0  \n",
       "\n",
       "[3577 rows x 14 columns]"
      ]
     },
     "execution_count": 384,
     "metadata": {},
     "output_type": "execute_result"
    }
   ],
   "source": [
    "car_encoded"
   ]
  },
  {
   "cell_type": "code",
   "execution_count": 385,
   "id": "392363fc",
   "metadata": {},
   "outputs": [],
   "source": [
    "from sklearn.preprocessing import LabelEncoder, StandardScaler"
   ]
  },
  {
   "cell_type": "code",
   "execution_count": 386,
   "id": "80db21d0",
   "metadata": {},
   "outputs": [
    {
     "data": {
      "text/html": [
       "<div>\n",
       "<style scoped>\n",
       "    .dataframe tbody tr th:only-of-type {\n",
       "        vertical-align: middle;\n",
       "    }\n",
       "\n",
       "    .dataframe tbody tr th {\n",
       "        vertical-align: top;\n",
       "    }\n",
       "\n",
       "    .dataframe thead th {\n",
       "        text-align: right;\n",
       "    }\n",
       "</style>\n",
       "<table border=\"1\" class=\"dataframe\">\n",
       "  <thead>\n",
       "    <tr style=\"text-align: right;\">\n",
       "      <th></th>\n",
       "      <th>year</th>\n",
       "      <th>selling_price</th>\n",
       "      <th>km_driven</th>\n",
       "      <th>fuel_Diesel</th>\n",
       "      <th>fuel_Electric</th>\n",
       "      <th>fuel_LPG</th>\n",
       "      <th>fuel_Petrol</th>\n",
       "      <th>seller_type_Individual</th>\n",
       "      <th>seller_type_Trustmark Dealer</th>\n",
       "      <th>transmission_Manual</th>\n",
       "      <th>owner_Fourth &amp; Above Owner</th>\n",
       "      <th>owner_Second Owner</th>\n",
       "      <th>owner_Test Drive Car</th>\n",
       "      <th>owner_Third Owner</th>\n",
       "    </tr>\n",
       "  </thead>\n",
       "  <tbody>\n",
       "    <tr>\n",
       "      <th>0</th>\n",
       "      <td>-1.402566</td>\n",
       "      <td>60000</td>\n",
       "      <td>0.015754</td>\n",
       "      <td>0</td>\n",
       "      <td>0</td>\n",
       "      <td>0</td>\n",
       "      <td>1</td>\n",
       "      <td>1</td>\n",
       "      <td>0</td>\n",
       "      <td>1</td>\n",
       "      <td>0</td>\n",
       "      <td>0</td>\n",
       "      <td>0</td>\n",
       "      <td>0</td>\n",
       "    </tr>\n",
       "    <tr>\n",
       "      <th>1</th>\n",
       "      <td>-1.402566</td>\n",
       "      <td>135000</td>\n",
       "      <td>-0.404650</td>\n",
       "      <td>0</td>\n",
       "      <td>0</td>\n",
       "      <td>0</td>\n",
       "      <td>1</td>\n",
       "      <td>1</td>\n",
       "      <td>0</td>\n",
       "      <td>1</td>\n",
       "      <td>0</td>\n",
       "      <td>0</td>\n",
       "      <td>0</td>\n",
       "      <td>0</td>\n",
       "    </tr>\n",
       "    <tr>\n",
       "      <th>2</th>\n",
       "      <td>-0.226418</td>\n",
       "      <td>600000</td>\n",
       "      <td>0.646360</td>\n",
       "      <td>1</td>\n",
       "      <td>0</td>\n",
       "      <td>0</td>\n",
       "      <td>0</td>\n",
       "      <td>1</td>\n",
       "      <td>0</td>\n",
       "      <td>1</td>\n",
       "      <td>0</td>\n",
       "      <td>0</td>\n",
       "      <td>0</td>\n",
       "      <td>0</td>\n",
       "    </tr>\n",
       "    <tr>\n",
       "      <th>3</th>\n",
       "      <td>0.949731</td>\n",
       "      <td>250000</td>\n",
       "      <td>-0.488731</td>\n",
       "      <td>0</td>\n",
       "      <td>0</td>\n",
       "      <td>0</td>\n",
       "      <td>1</td>\n",
       "      <td>1</td>\n",
       "      <td>0</td>\n",
       "      <td>1</td>\n",
       "      <td>0</td>\n",
       "      <td>0</td>\n",
       "      <td>0</td>\n",
       "      <td>0</td>\n",
       "    </tr>\n",
       "    <tr>\n",
       "      <th>4</th>\n",
       "      <td>0.244042</td>\n",
       "      <td>450000</td>\n",
       "      <td>1.508188</td>\n",
       "      <td>1</td>\n",
       "      <td>0</td>\n",
       "      <td>0</td>\n",
       "      <td>0</td>\n",
       "      <td>1</td>\n",
       "      <td>0</td>\n",
       "      <td>1</td>\n",
       "      <td>0</td>\n",
       "      <td>1</td>\n",
       "      <td>0</td>\n",
       "      <td>0</td>\n",
       "    </tr>\n",
       "    <tr>\n",
       "      <th>...</th>\n",
       "      <td>...</td>\n",
       "      <td>...</td>\n",
       "      <td>...</td>\n",
       "      <td>...</td>\n",
       "      <td>...</td>\n",
       "      <td>...</td>\n",
       "      <td>...</td>\n",
       "      <td>...</td>\n",
       "      <td>...</td>\n",
       "      <td>...</td>\n",
       "      <td>...</td>\n",
       "      <td>...</td>\n",
       "      <td>...</td>\n",
       "      <td>...</td>\n",
       "    </tr>\n",
       "    <tr>\n",
       "      <th>4335</th>\n",
       "      <td>0.244042</td>\n",
       "      <td>409999</td>\n",
       "      <td>0.225956</td>\n",
       "      <td>1</td>\n",
       "      <td>0</td>\n",
       "      <td>0</td>\n",
       "      <td>0</td>\n",
       "      <td>1</td>\n",
       "      <td>0</td>\n",
       "      <td>1</td>\n",
       "      <td>0</td>\n",
       "      <td>1</td>\n",
       "      <td>0</td>\n",
       "      <td>0</td>\n",
       "    </tr>\n",
       "    <tr>\n",
       "      <th>4336</th>\n",
       "      <td>0.244042</td>\n",
       "      <td>409999</td>\n",
       "      <td>0.225956</td>\n",
       "      <td>1</td>\n",
       "      <td>0</td>\n",
       "      <td>0</td>\n",
       "      <td>0</td>\n",
       "      <td>1</td>\n",
       "      <td>0</td>\n",
       "      <td>1</td>\n",
       "      <td>0</td>\n",
       "      <td>1</td>\n",
       "      <td>0</td>\n",
       "      <td>0</td>\n",
       "    </tr>\n",
       "    <tr>\n",
       "      <th>4337</th>\n",
       "      <td>-0.932107</td>\n",
       "      <td>110000</td>\n",
       "      <td>0.289016</td>\n",
       "      <td>0</td>\n",
       "      <td>0</td>\n",
       "      <td>0</td>\n",
       "      <td>1</td>\n",
       "      <td>1</td>\n",
       "      <td>0</td>\n",
       "      <td>1</td>\n",
       "      <td>0</td>\n",
       "      <td>1</td>\n",
       "      <td>0</td>\n",
       "      <td>0</td>\n",
       "    </tr>\n",
       "    <tr>\n",
       "      <th>4338</th>\n",
       "      <td>0.714501</td>\n",
       "      <td>865000</td>\n",
       "      <td>0.436158</td>\n",
       "      <td>1</td>\n",
       "      <td>0</td>\n",
       "      <td>0</td>\n",
       "      <td>0</td>\n",
       "      <td>1</td>\n",
       "      <td>0</td>\n",
       "      <td>1</td>\n",
       "      <td>0</td>\n",
       "      <td>0</td>\n",
       "      <td>0</td>\n",
       "      <td>0</td>\n",
       "    </tr>\n",
       "    <tr>\n",
       "      <th>4339</th>\n",
       "      <td>0.714501</td>\n",
       "      <td>225000</td>\n",
       "      <td>-0.614852</td>\n",
       "      <td>0</td>\n",
       "      <td>0</td>\n",
       "      <td>0</td>\n",
       "      <td>1</td>\n",
       "      <td>1</td>\n",
       "      <td>0</td>\n",
       "      <td>1</td>\n",
       "      <td>0</td>\n",
       "      <td>0</td>\n",
       "      <td>0</td>\n",
       "      <td>0</td>\n",
       "    </tr>\n",
       "  </tbody>\n",
       "</table>\n",
       "<p>3577 rows × 14 columns</p>\n",
       "</div>"
      ],
      "text/plain": [
       "          year  selling_price  km_driven  fuel_Diesel  fuel_Electric  \\\n",
       "0    -1.402566          60000   0.015754            0              0   \n",
       "1    -1.402566         135000  -0.404650            0              0   \n",
       "2    -0.226418         600000   0.646360            1              0   \n",
       "3     0.949731         250000  -0.488731            0              0   \n",
       "4     0.244042         450000   1.508188            1              0   \n",
       "...        ...            ...        ...          ...            ...   \n",
       "4335  0.244042         409999   0.225956            1              0   \n",
       "4336  0.244042         409999   0.225956            1              0   \n",
       "4337 -0.932107         110000   0.289016            0              0   \n",
       "4338  0.714501         865000   0.436158            1              0   \n",
       "4339  0.714501         225000  -0.614852            0              0   \n",
       "\n",
       "      fuel_LPG  fuel_Petrol  seller_type_Individual  \\\n",
       "0            0            1                       1   \n",
       "1            0            1                       1   \n",
       "2            0            0                       1   \n",
       "3            0            1                       1   \n",
       "4            0            0                       1   \n",
       "...        ...          ...                     ...   \n",
       "4335         0            0                       1   \n",
       "4336         0            0                       1   \n",
       "4337         0            1                       1   \n",
       "4338         0            0                       1   \n",
       "4339         0            1                       1   \n",
       "\n",
       "      seller_type_Trustmark Dealer  transmission_Manual  \\\n",
       "0                                0                    1   \n",
       "1                                0                    1   \n",
       "2                                0                    1   \n",
       "3                                0                    1   \n",
       "4                                0                    1   \n",
       "...                            ...                  ...   \n",
       "4335                             0                    1   \n",
       "4336                             0                    1   \n",
       "4337                             0                    1   \n",
       "4338                             0                    1   \n",
       "4339                             0                    1   \n",
       "\n",
       "      owner_Fourth & Above Owner  owner_Second Owner  owner_Test Drive Car  \\\n",
       "0                              0                   0                     0   \n",
       "1                              0                   0                     0   \n",
       "2                              0                   0                     0   \n",
       "3                              0                   0                     0   \n",
       "4                              0                   1                     0   \n",
       "...                          ...                 ...                   ...   \n",
       "4335                           0                   1                     0   \n",
       "4336                           0                   1                     0   \n",
       "4337                           0                   1                     0   \n",
       "4338                           0                   0                     0   \n",
       "4339                           0                   0                     0   \n",
       "\n",
       "      owner_Third Owner  \n",
       "0                     0  \n",
       "1                     0  \n",
       "2                     0  \n",
       "3                     0  \n",
       "4                     0  \n",
       "...                 ...  \n",
       "4335                  0  \n",
       "4336                  0  \n",
       "4337                  0  \n",
       "4338                  0  \n",
       "4339                  0  \n",
       "\n",
       "[3577 rows x 14 columns]"
      ]
     },
     "execution_count": 386,
     "metadata": {},
     "output_type": "execute_result"
    }
   ],
   "source": [
    "# Scaling the numerical features\n",
    "scaler = StandardScaler()\n",
    "car_encoded[['year', 'km_driven']] = scaler.fit_transform(car_encoded[['year', 'km_driven']])\n",
    "car_encoded"
   ]
  },
  {
   "cell_type": "code",
   "execution_count": 387,
   "id": "bed3e5a1",
   "metadata": {},
   "outputs": [
    {
     "data": {
      "image/png": "[encoded data removed]",
      "text/plain": [
       "<Figure size 864x576 with 1 Axes>"
      ]
     },
     "metadata": {
      "needs_background": "light"
     },
     "output_type": "display_data"
    }
   ],
   "source": [
    "plt.figure(figsize=(12, 8))\n",
    "sns.histplot(car_details['km_driven'], kde=True)\n",
    "plt.title('Distribution of Kilometers Driven')\n",
    "plt.xlabel('Kilometers Driven')\n",
    "plt.ylabel('Count')\n",
    "plt.show()"
   ]
  },
  {
   "cell_type": "code",
   "execution_count": 388,
   "id": "289c2a6b",
   "metadata": {},
   "outputs": [
    {
     "data": {
      "image/png": "[encoded data removed]",
      "text/plain": [
       "<Figure size 864x576 with 1 Axes>"
      ]
     },
     "metadata": {
      "needs_background": "light"
     },
     "output_type": "display_data"
    },
    {
     "data": {
      "image/png": "[encoded data removed]",
      "text/plain": [
       "<Figure size 864x576 with 1 Axes>"
      ]
     },
     "metadata": {
      "needs_background": "light"
     },
     "output_type": "display_data"
    }
   ],
   "source": [
    "plt.figure(figsize=(12, 8))\n",
    "sns.boxplot(x=df['fuel'], y=car_details['selling_price'])\n",
    "plt.title('Fuel Type vs Selling Price')\n",
    "plt.xlabel('Fuel Type')\n",
    "plt.ylabel('Selling Price')\n",
    "plt.show()\n",
    "\n",
    "\n",
    "plt.figure(figsize=(12, 8))\n",
    "sns.boxplot(x=car_details['transmission'], y=car_details['selling_price'])\n",
    "plt.title('Transmission Type vs Selling Price')\n",
    "plt.xlabel('Transmission Type')\n",
    "plt.ylabel('Selling Price')\n",
    "plt.show()"
   ]
  },
  {
   "cell_type": "code",
   "execution_count": 389,
   "id": "513615b2",
   "metadata": {},
   "outputs": [
    {
     "data": {
      "image/png": "[encoded data removed]",
      "text/plain": [
       "<Figure size 864x576 with 1 Axes>"
      ]
     },
     "metadata": {
      "needs_background": "light"
     },
     "output_type": "display_data"
    },
    {
     "data": {
      "image/png": "[encoded data removed]",
      "text/plain": [
       "<Figure size 864x576 with 1 Axes>"
      ]
     },
     "metadata": {
      "needs_background": "light"
     },
     "output_type": "display_data"
    }
   ],
   "source": [
    "plt.figure(figsize=(12, 8))\n",
    "sns.countplot(x=car_details['seller_type'])\n",
    "plt.title('Count of Seller Types')\n",
    "plt.xlabel('Seller Type')\n",
    "plt.ylabel('Count')\n",
    "plt.show()\n",
    "\n",
    "plt.figure(figsize=(12, 8))\n",
    "sns.countplot(x=car_details['owner'])\n",
    "plt.title('Count of Owners')\n",
    "plt.xlabel('Owner')\n",
    "plt.ylabel('Count')\n",
    "plt.show()"
   ]
  },
  {
   "cell_type": "code",
   "execution_count": 390,
   "id": "a884c906",
   "metadata": {},
   "outputs": [
    {
     "data": {
      "image/png": "[encoded data removed]",
      "text/plain": [
       "<Figure size 864x576 with 1 Axes>"
      ]
     },
     "metadata": {
      "needs_background": "light"
     },
     "output_type": "display_data"
    },
    {
     "data": {
      "image/png": "[encoded data removed]",
      "text/plain": [
       "<Figure size 864x576 with 1 Axes>"
      ]
     },
     "metadata": {
      "needs_background": "light"
     },
     "output_type": "display_data"
    }
   ],
   "source": [
    "plt.figure(figsize=(12, 8))\n",
    "sns.scatterplot(x=df['year'], y=df['selling_price'])\n",
    "plt.title('Year vs Selling Price')\n",
    "plt.xlabel('Year')\n",
    "plt.ylabel('Selling Price')\n",
    "plt.show()\n",
    "\n",
    "plt.figure(figsize=(12, 8))\n",
    "sns.scatterplot(x=car_details['km_driven'], y=car_details['selling_price'])\n",
    "plt.title('Kilometers Driven vs Selling Price')\n",
    "plt.xlabel('Kilometers Driven')\n",
    "plt.ylabel('Selling Price')\n",
    "plt.show()"
   ]
  },
  {
   "cell_type": "code",
   "execution_count": 391,
   "id": "f14dfe77",
   "metadata": {},
   "outputs": [
    {
     "data": {
      "text/html": [
       "<div>\n",
       "<style scoped>\n",
       "    .dataframe tbody tr th:only-of-type {\n",
       "        vertical-align: middle;\n",
       "    }\n",
       "\n",
       "    .dataframe tbody tr th {\n",
       "        vertical-align: top;\n",
       "    }\n",
       "\n",
       "    .dataframe thead th {\n",
       "        text-align: right;\n",
       "    }\n",
       "</style>\n",
       "<table border=\"1\" class=\"dataframe\">\n",
       "  <thead>\n",
       "    <tr style=\"text-align: right;\">\n",
       "      <th></th>\n",
       "      <th>year</th>\n",
       "      <th>selling_price</th>\n",
       "      <th>km_driven</th>\n",
       "    </tr>\n",
       "  </thead>\n",
       "  <tbody>\n",
       "    <tr>\n",
       "      <th>year</th>\n",
       "      <td>1.00000</td>\n",
       "      <td>0.424260</td>\n",
       "      <td>-0.417490</td>\n",
       "    </tr>\n",
       "    <tr>\n",
       "      <th>selling_price</th>\n",
       "      <td>0.42426</td>\n",
       "      <td>1.000000</td>\n",
       "      <td>-0.187359</td>\n",
       "    </tr>\n",
       "    <tr>\n",
       "      <th>km_driven</th>\n",
       "      <td>-0.41749</td>\n",
       "      <td>-0.187359</td>\n",
       "      <td>1.000000</td>\n",
       "    </tr>\n",
       "  </tbody>\n",
       "</table>\n",
       "</div>"
      ],
      "text/plain": [
       "                  year  selling_price  km_driven\n",
       "year           1.00000       0.424260  -0.417490\n",
       "selling_price  0.42426       1.000000  -0.187359\n",
       "km_driven     -0.41749      -0.187359   1.000000"
      ]
     },
     "execution_count": 391,
     "metadata": {},
     "output_type": "execute_result"
    }
   ],
   "source": [
    "# Correlation matrix\n",
    "correlation_matrix = car_details.corr()\n",
    "correlation_matrix"
   ]
  },
  {
   "cell_type": "code",
   "execution_count": 392,
   "id": "c7c6c6e3",
   "metadata": {},
   "outputs": [
    {
     "data": {
      "image/png": "[encoded data removed]",
      "text/plain": [
       "<Figure size 864x576 with 2 Axes>"
      ]
     },
     "metadata": {
      "needs_background": "light"
     },
     "output_type": "display_data"
    }
   ],
   "source": [
    "plt.figure(figsize=(12, 8))\n",
    "sns.heatmap(correlation_matrix, annot=True, cmap='coolwarm')\n",
    "plt.title('Correlation Matrix')\n",
    "plt.show()"
   ]
  },
  {
   "cell_type": "code",
   "execution_count": 393,
   "id": "6d88035f",
   "metadata": {},
   "outputs": [],
   "source": [
    "from sklearn.model_selection import train_test_split"
   ]
  },
  {
   "cell_type": "code",
   "execution_count": 394,
   "id": "8e7ae10d",
   "metadata": {},
   "outputs": [
    {
     "name": "stdout",
     "output_type": "stream",
     "text": [
      "(2861, 13)\n",
      "(716, 13)\n",
      "(2861,)\n",
      "(716,)\n"
     ]
    }
   ],
   "source": [
    "# Split the data into features and target\n",
    "x = car_encoded.drop('selling_price', axis=1)\n",
    "y = car_encoded['selling_price']\n",
    "\n",
    "# Split the data into training and testing sets\n",
    "x_train, x_test, y_train, y_test = train_test_split(x, y, test_size=0.2, random_state=2023)\n",
    "\n",
    "print(x_train.shape)\n",
    "print(x_test.shape)\n",
    "print(y_train.shape)\n",
    "print(y_test.shape)"
   ]
  },
  {
   "cell_type": "code",
   "execution_count": 395,
   "id": "5b4d3259",
   "metadata": {},
   "outputs": [
    {
     "name": "stdout",
     "output_type": "stream",
     "text": [
      "       year  km_driven  fuel_Diesel  fuel_Electric  fuel_LPG  fuel_Petrol  \\\n",
      "0 -1.402566   0.015754            0              0         0            1   \n",
      "1 -1.402566  -0.404650            0              0         0            1   \n",
      "2 -0.226418   0.646360            1              0         0            0   \n",
      "3  0.949731  -0.488731            0              0         0            1   \n",
      "4  0.244042   1.508188            1              0         0            0   \n",
      "\n",
      "   seller_type_Individual  seller_type_Trustmark Dealer  transmission_Manual  \\\n",
      "0                       1                             0                    1   \n",
      "1                       1                             0                    1   \n",
      "2                       1                             0                    1   \n",
      "3                       1                             0                    1   \n",
      "4                       1                             0                    1   \n",
      "\n",
      "   owner_Fourth & Above Owner  owner_Second Owner  owner_Test Drive Car  \\\n",
      "0                           0                   0                     0   \n",
      "1                           0                   0                     0   \n",
      "2                           0                   0                     0   \n",
      "3                           0                   0                     0   \n",
      "4                           0                   1                     0   \n",
      "\n",
      "   owner_Third Owner  \n",
      "0                  0  \n",
      "1                  0  \n",
      "2                  0  \n",
      "3                  0  \n",
      "4                  0  \n",
      "0     60000\n",
      "1    135000\n",
      "2    600000\n",
      "3    250000\n",
      "4    450000\n",
      "Name: selling_price, dtype: int64\n"
     ]
    }
   ],
   "source": [
    "print(x.head())\n",
    "print(y.head())"
   ]
  },
  {
   "cell_type": "code",
   "execution_count": 396,
   "id": "547a2983",
   "metadata": {},
   "outputs": [],
   "source": [
    "from sklearn.linear_model import LinearRegression\n",
    "from sklearn.ensemble import RandomForestRegressor\n",
    "from sklearn.metrics import mean_squared_error, r2_score, mean_absolute_error\n",
    "from sklearn.metrics import confusion_matrix, classification_report,accuracy_score\n",
    "from sklearn.metrics import auc\n",
    "from sklearn.neighbors import KNeighborsRegressor\n",
    "from sklearn.svm import SVR\n",
    "from sklearn.tree import DecisionTreeRegressor\n",
    "from sklearn.ensemble import AdaBoostRegressor"
   ]
  },
  {
   "cell_type": "code",
   "execution_count": 397,
   "id": "39017db0",
   "metadata": {},
   "outputs": [],
   "source": [
    "a = {'Model':[],'r2 score':[],'MSE':[],'RMSE':[],'MAE':[]}\n",
    "\n",
    "def evaluate(model,model_name,x_test,y_test,ypred):\n",
    "    mse = mean_squared_error(y_test, ypred)\n",
    "    r2 = r2_score(y_test, ypred)\n",
    "    mae = mean_absolute_error(y_test, ypred)\n",
    "    rmse = mean_squared_error(y_test, ypred,squared=False)\n",
    "    print('mean squared error',mse)\n",
    "    print('r2 score',r2)\n",
    "    print('mean absolute error',mae)\n",
    "    print('root mean squared error',rmse)\n",
    "    a['Model'].append(model_name)\n",
    "    a['r2 score'].append(r2)\n",
    "    a['MSE'].append(mse)\n",
    "    a['RMSE'].append(rmse)\n",
    "    a['MAE'].append(mae)\n",
    "\n",
    "def m_score(model):\n",
    "    print('Training Score',model.score(x_train,y_train))   # Trainig Accuracy\n",
    "    print('Testing Score',model.score(x_test,y_test))      # Testing Accuracy\n"
   ]
  },
  {
   "cell_type": "markdown",
   "id": "818d875f",
   "metadata": {},
   "source": [
    "### Applying Linear Regression"
   ]
  },
  {
   "cell_type": "code",
   "execution_count": 398,
   "id": "e77501c7",
   "metadata": {},
   "outputs": [
    {
     "data": {
      "text/plain": [
       "LinearRegression()"
      ]
     },
     "execution_count": 398,
     "metadata": {},
     "output_type": "execute_result"
    }
   ],
   "source": [
    "# Building the linreg model\n",
    "linreg = LinearRegression()\n",
    "# Fit the model on the training data\n",
    "linreg.fit(x_train, y_train)"
   ]
  },
  {
   "cell_type": "code",
   "execution_count": 399,
   "id": "19fa0c87",
   "metadata": {},
   "outputs": [
    {
     "name": "stdout",
     "output_type": "stream",
     "text": [
      "Training Score 0.44013027703629104\n",
      "Testing Score 0.41487759825200665\n"
     ]
    }
   ],
   "source": [
    "# Computing Training and testing score\n",
    "m_score(linreg)"
   ]
  },
  {
   "cell_type": "code",
   "execution_count": 400,
   "id": "a6483361",
   "metadata": {},
   "outputs": [
    {
     "name": "stdout",
     "output_type": "stream",
     "text": [
      "[ 4.47957058e+05  6.35669407e+05  1.12972481e+06  7.34126480e+05\n",
      "  4.94696154e+05  1.96177891e+05  4.98798785e+05  4.64596410e+05\n",
      "  6.35589849e+05  4.43683129e+05  4.26845801e+05  3.09176508e+05\n",
      "  8.76647717e+04  4.83254960e+05  4.09638403e+05  5.43346866e+05\n",
      "  3.99228475e+05  1.32466865e+06  4.28358763e+05  5.23748570e+05\n",
      " -1.24857022e+05  4.65630090e+05 -2.46235956e+04  5.05028210e+05\n",
      "  1.81211651e+05  4.13347826e+05  3.69284475e+05 -1.24737436e+05\n",
      "  4.62483266e+05  1.46801409e+06  4.12060480e+05  1.45985580e+06\n",
      "  3.32968955e+05  6.80300007e+05  4.61755927e+05  5.04680088e+05\n",
      "  3.65652923e+05  2.83270915e+05  5.57873073e+05  5.19554418e+05\n",
      "  4.07444319e+05  1.43807418e+06  4.87419401e+05  6.45999777e+05\n",
      "  1.67785999e+05  4.82754170e+05  2.90101965e+05  4.17525117e+05\n",
      "  1.24690540e+05  4.64596410e+05  7.30494928e+05  6.13602869e+05\n",
      "  4.08622394e+05  7.81821384e+05  6.26323609e+05  4.25511719e+05\n",
      "  1.15010944e+06  4.97765106e+05  5.58507869e+05  3.06578635e+05\n",
      "  1.46863732e+06  3.41317988e+05  5.25273039e+05  3.34597371e+05\n",
      "  3.79616530e+05  6.49703176e+05  6.07268240e+05  6.60525985e+05\n",
      "  1.59610635e+06  1.43489727e+05  5.69252458e+05  3.51424083e+05\n",
      "  5.07115279e+05  8.21236349e+05  5.23977039e+05  1.25462785e+06\n",
      "  1.59436243e+06  5.95956208e+05  7.81776145e+03  1.05598414e+06\n",
      "  5.12357101e+05  2.11496447e+05  3.07239158e+05  3.58860898e+05\n",
      "  4.42884970e+05  6.48066953e+04  6.76193882e+04  5.88378765e+04\n",
      "  4.97765106e+05  4.16901507e+05  9.61228528e+04  3.11826518e+05\n",
      "  7.61556541e+05  1.79472753e+05  5.22847945e+05  3.88551533e+05\n",
      "  1.51551939e+05  4.31427714e+05  4.51963067e+05  3.67995564e+05\n",
      "  5.55558098e+05  5.53756793e+05  5.23804758e+05  8.27664779e+05\n",
      "  5.72399281e+05 -3.50977454e+04  3.76547579e+05  6.79168473e+05\n",
      "  2.23439692e+04  3.47495163e+05  6.27842017e+05  4.84360421e+05\n",
      "  5.27380122e+05  2.47381323e+05  1.43333028e+05  8.14263769e+05\n",
      "  2.72980718e+04  4.99877596e+05  5.48606833e+05  3.43378883e+05\n",
      "  3.93737446e+05  4.20610930e+05  3.65090323e+05  4.64111682e+05\n",
      "  3.83732811e+05  5.06061889e+05  6.27357289e+05  4.28358763e+05\n",
      "  1.19340418e+04  3.88725121e+05  1.49454291e+06  2.73894667e+05\n",
      "  1.50808653e+04  5.16485466e+05  1.79213483e+04  6.52229201e+05\n",
      "  3.47131225e+05  1.02504486e+06  4.88113267e+05  7.30494928e+05\n",
      "  5.86925489e+05  5.38196906e+05  4.71859514e+05  5.56989114e+05\n",
      "  3.36115779e+05 -4.32660837e+04  4.68897035e+05  2.05482514e+05\n",
      "  7.29137677e+05  5.44314758e+05  5.55624667e+05  7.26863376e+05\n",
      "  6.64157536e+05  4.00437950e+05 -8.78141639e+04  4.21985247e+04\n",
      "  4.12543644e+05  7.10835606e+05  5.56083834e+05  5.58441734e+05\n",
      "  5.50125241e+05  4.24164610e+05  3.40716788e+05 -2.56572749e+04\n",
      "  5.36083762e+05  6.04187204e+05  6.91515749e+05  5.55765990e+05\n",
      "  7.18147652e+05  1.36244839e+06  1.73043589e+05  3.21903001e+05\n",
      "  7.64461782e+05  1.26189096e+06  1.33265806e+06  1.71163884e+05\n",
      "  4.93485116e+05 -7.62574201e+04  4.40693954e+05  4.67250001e+05\n",
      "  4.06801169e+04  5.14294450e+05  6.31473569e+05  7.12337169e+05\n",
      "  4.87026690e+05  4.73101699e+05  3.80179131e+05 -5.24644362e+04\n",
      " -1.68939537e+05  1.29433334e+06  1.97740996e+05  2.46941747e+05\n",
      "  3.11773291e+05  1.47745248e+04  4.17627817e+05 -7.21139815e+02\n",
      " -1.76668206e+05  3.82777003e+05  5.58878304e+05  3.92363515e+04\n",
      "  5.57873073e+05  1.30014383e+06  3.13369413e+05  1.67125476e+05\n",
      "  4.68790562e+05  4.90216719e+05  6.60525985e+05  3.98259018e+05\n",
      "  7.23303672e+05  5.02915066e+05  2.22083483e+05  4.57411178e+05\n",
      "  3.39514057e+03  5.16485466e+05  1.26693676e+05 -7.71621185e+04\n",
      "  6.12831081e+05  7.37758032e+05  4.42322370e+05  4.81468980e+05\n",
      "  5.36324315e+05  8.78902921e+04  1.32788286e+06  6.71905369e+05\n",
      "  5.27380122e+05  4.95167234e+05  3.93040131e+05 -2.31823635e+05\n",
      "  4.03905791e+05  7.34126480e+05  1.61975516e+05  5.63683556e+05\n",
      "  7.48824921e+04  3.01913404e+05 -3.70366592e+04  3.47010435e+05\n",
      "  2.58641121e+05  1.17746765e+06  3.00568413e+05  4.87020170e+05\n",
      "  1.73661241e+05  8.18108025e+05  7.41551532e+04  7.77535369e+05\n",
      "  6.64642265e+05  5.23748570e+05  5.56564948e+05  6.64642265e+05\n",
      "  3.54506627e+05  7.68529120e+05  2.44842252e+05  5.23748570e+05\n",
      "  3.36606568e+05  6.93694680e+05  2.56143764e+05  3.96145874e+05\n",
      "  4.93648826e+05  7.26863376e+05  2.84134861e+05  3.06578635e+05\n",
      "  3.32968955e+05 -7.71621185e+04  8.88009473e+04  5.63090904e+05\n",
      "  7.55189481e+05  5.91041769e+05  4.67894518e+05  2.81157771e+05\n",
      " -1.48654419e+05  4.38690818e+05  4.31427714e+05  5.58804890e+05\n",
      "  1.55853163e+06  1.95144212e+05  5.28106432e+05 -1.83931310e+05\n",
      "  3.21575922e+05  5.23022260e+05  6.21063642e+05  5.17926002e+05\n",
      "  4.47957058e+05  3.47010435e+05  3.83732811e+05  1.40941101e+06\n",
      "  4.72344243e+05  2.65420525e+05  2.28619248e+05  5.36083762e+05\n",
      "  4.79432207e+04  1.79871354e+04  2.14513011e+05  9.51455722e+03\n",
      "  2.00294172e+05  4.03839221e+05  1.81651684e+05  6.60525985e+05\n",
      "  6.51568678e+05  1.44861406e+06  6.03562844e+04  3.54680395e+05\n",
      "  4.03408978e+05  5.39230585e+05  5.91221837e+05  8.56541238e+04\n",
      "  5.42505043e+05 -1.73741411e+04  4.79607346e+05  4.27377221e+05\n",
      "  5.30103786e+05  5.72399281e+05  6.25493352e+05  6.26323609e+05\n",
      "  2.62515283e+05  6.53262881e+05  7.26377739e+04  7.36777513e+05\n",
      "  1.25130243e+06  5.73368738e+05  5.21938548e+05  4.27931506e+05\n",
      "  8.11652627e+05  6.24210465e+05  5.38503246e+05  1.13501457e+06\n",
      "  5.46493689e+05  3.69473259e+05  4.77009474e+05  4.64596410e+05\n",
      "  4.53217026e+05  1.70620354e+05  4.30524581e+05  3.09242295e+05\n",
      "  4.83316770e+05  7.53567126e+05  5.13809722e+05  5.30067470e+05\n",
      "  3.54758267e+05  5.30931805e+04  5.50609969e+05  7.56548465e+05\n",
      "  3.98565359e+05  5.17199692e+05  3.12808059e+05  3.81631751e+05\n",
      "  7.37758032e+05  3.09176508e+05  4.78521316e+05  2.51058027e+05\n",
      "  7.09576092e+01  4.13347826e+05  3.78285483e+05  5.23748570e+05\n",
      "  1.53136810e+06  5.91768080e+05  1.81651684e+05  1.31642400e+06\n",
      "  1.13941146e+05  6.07818756e+05  7.35065494e+05  1.22188892e+06\n",
      "  1.48482988e+05  2.49985646e+05  2.60517146e+05  8.50409555e+05\n",
      "  5.85544716e+05  7.51142096e+03  5.81442085e+05  1.17493223e+05\n",
      "  1.44366707e+05  2.58144308e+05  3.35008389e+05  7.25410756e+05\n",
      "  4.53779626e+05  7.23958135e+05  3.91302255e+05  5.64651449e+05\n",
      "  3.39854178e+05  3.23840350e+05  2.94650300e+05  6.32497248e+05\n",
      "  3.80179131e+05  1.33643487e+06  5.10178170e+05  5.61989354e+05\n",
      "  6.27842017e+05  4.69026904e+05  4.46530265e+05  4.47001251e+05\n",
      "  3.39747331e+05  7.81821384e+05  5.59986217e+05  6.70013418e+05\n",
      "  3.01913404e+05  4.78232598e+05  3.34735006e+05  4.10685731e+05\n",
      "  1.25462785e+06  6.01210115e+05  5.86925489e+05  6.07681121e+05\n",
      "  1.47745248e+04  6.35589849e+05  3.91302255e+05  6.37284052e+05\n",
      "  2.73894667e+05  1.62281857e+05  2.06418085e+05  2.23281409e+05\n",
      "  5.80071018e+05  5.54083872e+05  3.44661769e+05  1.28806820e+05\n",
      "  5.93534130e+05  6.26519069e+05  1.30642539e+06  2.45089895e+05\n",
      "  2.03669464e+05  3.55714074e+05  7.19600272e+05  4.50070202e+05\n",
      "  1.26237569e+06  8.86813610e+04  5.98304873e+05  1.10164332e+05\n",
      "  5.25401273e+05  3.53239859e+05  7.13135327e+05  5.12291314e+05\n",
      "  6.97308744e+05  4.21095659e+05  7.38488128e+04  4.20048330e+05\n",
      "  8.14901049e+04  6.53262881e+05  4.24164610e+05  5.33112733e+05\n",
      "  1.00060745e+05  5.23626493e+05  1.31102389e+06  2.52091706e+05\n",
      "  3.91965371e+05  5.58078579e+05  5.45766350e+05 -2.72364354e+05\n",
      " -1.11310672e+04  3.59682594e+05  3.74448123e+05  6.97188829e+04\n",
      "  1.62839461e+05  6.46313206e+05  7.99022815e+05  7.06740668e+05\n",
      "  6.38736673e+05  4.38269403e+04 -5.56791473e+04  3.79616530e+05\n",
      "  2.60996875e+05  3.79133366e+05  3.98259018e+05 -1.69405102e+05\n",
      "  1.46863732e+06  5.09222362e+05  5.12291314e+05  7.41219850e+05\n",
      "  8.56541238e+04  1.48316352e+06  5.93226050e+04  4.86451509e+05\n",
      "  7.99692473e+05  5.61019897e+05  4.24242482e+05  5.87629227e+05\n",
      " -8.47315628e+04  3.50641987e+05  5.13324993e+05  3.13841739e+05\n",
      "  4.25698510e+05  4.69746370e+05  3.40232059e+05  2.89219033e+05\n",
      "  4.54250705e+05  5.29375240e+05  7.86179246e+05  1.52599268e+05\n",
      "  7.76082749e+05  3.10282035e+05  2.33462868e+05  5.09222362e+05\n",
      "  5.28832743e+05  1.54230966e+06  5.30933802e+05  5.32935374e+05\n",
      "  4.56365414e+05  2.93288282e+05  4.01953884e+04  2.65584235e+05\n",
      "  6.93694680e+05  2.33384996e+05  6.16462633e+05  2.54767451e+05\n",
      "  7.05074065e+05  7.18219499e+05  2.98888404e+05  8.14182571e+04\n",
      "  1.26085924e+05  1.41219884e+05  7.81821384e+05  4.17143088e+05\n",
      "  5.31482753e+05  7.51142096e+03  4.82495612e+04  6.89033163e+05\n",
      "  3.81631751e+05  4.98071447e+05  4.73312135e+05  4.86385722e+05\n",
      "  7.41389584e+05  3.13292788e+05  8.42587401e+04  4.53779626e+05\n",
      "  4.16979378e+05  6.38736673e+05  1.18798276e+06  2.37565499e+05\n",
      "  5.57873073e+05  5.71365602e+05  4.80156297e+05  2.23439692e+04\n",
      "  4.28358763e+05  5.58441734e+05  1.47745248e+04  2.36609691e+05\n",
      "  4.02375299e+05  1.52599268e+05  3.63946635e+05  2.35576012e+05\n",
      "  4.07525259e+05  4.83316770e+05  5.45460010e+05  4.97493102e+05\n",
      "  1.20536281e+04  8.22760498e+05  4.90579874e+05 -3.93924137e+04\n",
      "  7.52048719e+05  3.72916027e+05  7.79896136e+05  4.66114818e+05\n",
      "  4.20048330e+05  5.63454059e+05  1.04180267e+06 -2.27520334e+04\n",
      "  4.31063246e+05 -3.70366592e+04  1.23306701e+06  7.37563324e+05\n",
      "  1.96177891e+05  1.39998325e+05  3.11681692e+05  4.45427057e+05\n",
      "  3.95112195e+05  1.00161175e+06  6.22031534e+05  3.23702715e+05\n",
      "  9.25538768e+05  3.61779789e+05  6.19232556e+05  4.64504548e+05\n",
      " -1.43805851e+05  4.18006788e+05  2.44279652e+05 -1.26535862e+05\n",
      "  1.45564633e+05  1.66091797e+05  4.88702288e+05  3.83732811e+05\n",
      "  5.60548818e+05  9.97544048e+04  4.69019031e+05  2.83270915e+05\n",
      "  4.32461394e+05  5.31967481e+05  4.91535682e+05  4.57411178e+05\n",
      "  7.19600272e+05  4.09716275e+05  4.50148074e+05  5.23748570e+05\n",
      "  1.25680679e+06  4.87661519e+05  3.56683531e+05  4.45299459e+05\n",
      "  3.69206603e+05  1.29747414e+06  4.72422114e+05  4.42884970e+05\n",
      "  2.58627471e+05  1.78504860e+05  3.87998811e+05  7.41389584e+05\n",
      "  5.10178170e+05  4.83316770e+05  9.15218440e+04  5.27851201e+05\n",
      "  6.20094185e+05  4.96757366e+05  6.66166733e+05  4.83316770e+05\n",
      "  3.69284475e+05  5.38196906e+05 -3.26140383e+04  4.28358763e+05\n",
      "  3.51611444e+05  4.30471907e+05  4.79685218e+05  6.09199529e+05\n",
      "  1.24736475e+06  7.19600272e+05  2.21049804e+05  5.46094458e+05\n",
      "  1.44321645e+06  5.31967481e+05  6.71905369e+05  9.24913009e+04\n",
      "  6.13629239e+05  4.28358763e+05  2.48217544e+05  3.74838649e+05\n",
      "  5.06061889e+05  3.47010435e+05  4.03408978e+05  1.32923101e+05\n",
      "  4.81787104e+05  2.01988375e+05  4.77735784e+05  5.64102498e+05\n",
      "  4.26064291e+05  4.66841128e+05  7.02247208e+05  1.80924345e+05\n",
      "  4.43233025e+05 -1.91500754e+05  6.97325324e+04  3.28852675e+05\n",
      "  1.44684800e+06  8.02667568e+05  5.15922866e+05  1.95144212e+05\n",
      "  3.31921627e+05  5.43346866e+05  7.70926728e+05  4.97765106e+05\n",
      "  5.21631318e+05  1.26189096e+06  6.35589849e+05  2.17889331e+05\n",
      "  1.20330140e+06  5.17441274e+05  5.72404924e+05  9.63130085e+05\n",
      "  5.22004642e+05  3.72353426e+05  2.91567699e+05  3.43301011e+05\n",
      "  1.52401513e+06  5.36083762e+05  1.20192063e+06  4.13347826e+05\n",
      "  3.39747331e+05  4.16901507e+05  1.10381442e+05  5.20117018e+05\n",
      "  5.13652072e+05  4.43840778e+05  1.32521920e+06  2.40725972e+05\n",
      "  6.01451697e+05  3.97303211e+05  6.53443675e+05  5.83778665e+05\n",
      "  4.85567549e+05  5.53538900e+05  4.27219572e+05  3.17701759e+05\n",
      "  5.27380122e+05  5.02915066e+05  6.24210465e+05  4.05522122e+05\n",
      "  7.67295176e+05  1.37210832e+06  8.21526873e+05  6.08714800e+05\n",
      "  7.38846714e+05  5.02897802e+05  7.38488128e+04  4.25198290e+05\n",
      "  4.87605576e+05  7.70926728e+05  4.65159011e+05  1.83512726e+05\n",
      "  3.87926963e+05  1.54712412e+05  1.35757456e+05  1.44210093e+06\n",
      "  6.64157536e+05  5.59986217e+05  6.20094185e+05  3.76547579e+05\n",
      "  6.35903279e+05  3.83732811e+05  5.12853914e+05  1.26364492e+06\n",
      "  4.27101363e+05  6.80372638e+05  1.18383243e+05  7.48814636e+04]\n"
     ]
    }
   ],
   "source": [
    "# Make predictions on the test set\n",
    "ypred_linreg = linreg.predict(x_test)\n",
    "print(ypred_linreg)"
   ]
  },
  {
   "cell_type": "code",
   "execution_count": 401,
   "id": "4653d31d",
   "metadata": {},
   "outputs": [
    {
     "name": "stdout",
     "output_type": "stream",
     "text": [
      "mean squared error 148391300721.7298\n",
      "r2 score 0.41487759825200665\n",
      "mean absolute error 218054.82789710406\n",
      "root mean squared error 385215.9144190824\n"
     ]
    }
   ],
   "source": [
    "# Evaluate the model \n",
    "evaluate(linreg,'Lin_Reg',x_test,y_test,ypred_linreg)"
   ]
  },
  {
   "cell_type": "markdown",
   "id": "12aba4c7",
   "metadata": {},
   "source": [
    "### Lasso regression"
   ]
  },
  {
   "cell_type": "code",
   "execution_count": 402,
   "id": "c161a988",
   "metadata": {},
   "outputs": [
    {
     "name": "stdout",
     "output_type": "stream",
     "text": [
      "Requirement already satisfied: Lasso in c:\\users\\lenovo1\\anaconda3\\lib\\site-packages (0.1.0)\n"
     ]
    }
   ],
   "source": [
    "!pip install Lasso"
   ]
  },
  {
   "cell_type": "code",
   "execution_count": 403,
   "id": "ebeefe7b",
   "metadata": {},
   "outputs": [],
   "source": [
    "from sklearn.linear_model import Lasso\n",
    "from sklearn.linear_model import Ridge"
   ]
  },
  {
   "cell_type": "code",
   "execution_count": 404,
   "id": "6cf15272",
   "metadata": {},
   "outputs": [
    {
     "data": {
      "text/plain": [
       "Lasso()"
      ]
     },
     "execution_count": 404,
     "metadata": {},
     "output_type": "execute_result"
    }
   ],
   "source": [
    "las = Lasso()\n",
    "# Fit the model on the training data\n",
    "las.fit(x_train,y_train)"
   ]
  },
  {
   "cell_type": "code",
   "execution_count": 405,
   "id": "bfd13faa",
   "metadata": {},
   "outputs": [],
   "source": [
    "# Make predictions on the test set\n",
    "ypred_las = las.predict(x_test)"
   ]
  },
  {
   "cell_type": "code",
   "execution_count": 406,
   "id": "c8f84d43",
   "metadata": {},
   "outputs": [
    {
     "name": "stdout",
     "output_type": "stream",
     "text": [
      "Training Score 0.4401302719538128\n",
      "Testing Score 0.4148768375883155\n"
     ]
    }
   ],
   "source": [
    "# Computing Training and testing score\n",
    "m_score(las)"
   ]
  },
  {
   "cell_type": "code",
   "execution_count": 407,
   "id": "fdfd5c0f",
   "metadata": {},
   "outputs": [
    {
     "name": "stdout",
     "output_type": "stream",
     "text": [
      "mean squared error 148391493631.57944\n",
      "r2 score 0.4148768375883155\n",
      "mean absolute error 218054.88624060212\n",
      "root mean squared error 385216.16481084935\n"
     ]
    }
   ],
   "source": [
    "# Evaluate the model \n",
    "evaluate(las,'Lasso_Reg',x_test,y_test,ypred_las)"
   ]
  },
  {
   "cell_type": "markdown",
   "id": "8782eea6",
   "metadata": {},
   "source": [
    "### Ridge regression"
   ]
  },
  {
   "cell_type": "code",
   "execution_count": 408,
   "id": "64869543",
   "metadata": {},
   "outputs": [
    {
     "data": {
      "text/plain": [
       "Ridge()"
      ]
     },
     "execution_count": 408,
     "metadata": {},
     "output_type": "execute_result"
    }
   ],
   "source": [
    "rid = Ridge()\n",
    "# Fit the model on the training data\n",
    "rid.fit(x_train,y_train)"
   ]
  },
  {
   "cell_type": "code",
   "execution_count": 409,
   "id": "e4020c10",
   "metadata": {},
   "outputs": [],
   "source": [
    "# Make predictions on the test set\n",
    "ypred_rid = rid.predict(x_test)"
   ]
  },
  {
   "cell_type": "code",
   "execution_count": 410,
   "id": "d13c4ed7",
   "metadata": {},
   "outputs": [
    {
     "name": "stdout",
     "output_type": "stream",
     "text": [
      "Training Score 0.44012072138629177\n",
      "Testing Score 0.41483643135579773\n"
     ]
    }
   ],
   "source": [
    "# Computing Training and testing score\n",
    "m_score(rid)"
   ]
  },
  {
   "cell_type": "code",
   "execution_count": 411,
   "id": "55647951",
   "metadata": {},
   "outputs": [
    {
     "name": "stdout",
     "output_type": "stream",
     "text": [
      "mean squared error 148401740946.29968\n",
      "r2 score 0.41483643135579773\n",
      "mean absolute error 218025.2868734464\n",
      "root mean squared error 385229.4653142458\n"
     ]
    }
   ],
   "source": [
    "evaluate(rid,'Ridge_Reg',x_test,y_test,ypred_rid)"
   ]
  },
  {
   "cell_type": "markdown",
   "id": "26fb84d7",
   "metadata": {},
   "source": [
    "#### Summary of regression models"
   ]
  },
  {
   "cell_type": "code",
   "execution_count": 412,
   "id": "fcec5e51",
   "metadata": {},
   "outputs": [
    {
     "data": {
      "text/html": [
       "<div>\n",
       "<style scoped>\n",
       "    .dataframe tbody tr th:only-of-type {\n",
       "        vertical-align: middle;\n",
       "    }\n",
       "\n",
       "    .dataframe tbody tr th {\n",
       "        vertical-align: top;\n",
       "    }\n",
       "\n",
       "    .dataframe thead th {\n",
       "        text-align: right;\n",
       "    }\n",
       "</style>\n",
       "<table border=\"1\" class=\"dataframe\">\n",
       "  <thead>\n",
       "    <tr style=\"text-align: right;\">\n",
       "      <th></th>\n",
       "      <th>Model</th>\n",
       "      <th>r2 score</th>\n",
       "      <th>MSE</th>\n",
       "      <th>RMSE</th>\n",
       "      <th>MAE</th>\n",
       "    </tr>\n",
       "  </thead>\n",
       "  <tbody>\n",
       "    <tr>\n",
       "      <th>0</th>\n",
       "      <td>Lin_Reg</td>\n",
       "      <td>0.414878</td>\n",
       "      <td>1.483913e+11</td>\n",
       "      <td>385215.914419</td>\n",
       "      <td>218054.827897</td>\n",
       "    </tr>\n",
       "    <tr>\n",
       "      <th>1</th>\n",
       "      <td>Lasso_Reg</td>\n",
       "      <td>0.414877</td>\n",
       "      <td>1.483915e+11</td>\n",
       "      <td>385216.164811</td>\n",
       "      <td>218054.886241</td>\n",
       "    </tr>\n",
       "    <tr>\n",
       "      <th>2</th>\n",
       "      <td>Ridge_Reg</td>\n",
       "      <td>0.414836</td>\n",
       "      <td>1.484017e+11</td>\n",
       "      <td>385229.465314</td>\n",
       "      <td>218025.286873</td>\n",
       "    </tr>\n",
       "  </tbody>\n",
       "</table>\n",
       "</div>"
      ],
      "text/plain": [
       "       Model  r2 score           MSE           RMSE            MAE\n",
       "0    Lin_Reg  0.414878  1.483913e+11  385215.914419  218054.827897\n",
       "1  Lasso_Reg  0.414877  1.483915e+11  385216.164811  218054.886241\n",
       "2  Ridge_Reg  0.414836  1.484017e+11  385229.465314  218025.286873"
      ]
     },
     "execution_count": 412,
     "metadata": {},
     "output_type": "execute_result"
    }
   ],
   "source": [
    "sum = pd.DataFrame(a)\n",
    "sum"
   ]
  },
  {
   "cell_type": "markdown",
   "id": "17c49eb3",
   "metadata": {},
   "source": [
    "###  Applying Decision Tree Regressor"
   ]
  },
  {
   "cell_type": "code",
   "execution_count": 413,
   "id": "04c292f3",
   "metadata": {},
   "outputs": [
    {
     "data": {
      "text/plain": [
       "DecisionTreeRegressor()"
      ]
     },
     "execution_count": 413,
     "metadata": {},
     "output_type": "execute_result"
    }
   ],
   "source": [
    "# Create and train a decision tree classifier\n",
    "dt_Regressor = DecisionTreeRegressor()\n",
    "# Fit the model on the training data\n",
    "dt_Regressor.fit(x_train, y_train)"
   ]
  },
  {
   "cell_type": "code",
   "execution_count": 414,
   "id": "06bc0e47",
   "metadata": {},
   "outputs": [],
   "source": [
    "# Make predictions on the test set\n",
    "ypred_tree = dt_Regressor.predict(x_test)"
   ]
  },
  {
   "cell_type": "code",
   "execution_count": 415,
   "id": "a84c5aa2",
   "metadata": {},
   "outputs": [
    {
     "name": "stdout",
     "output_type": "stream",
     "text": [
      "mean squared error 259943574610.29163\n",
      "r2 score -0.02498467197989762\n",
      "mean absolute error 240172.29467842836\n",
      "root mean squared error 509846.61871026625\n"
     ]
    }
   ],
   "source": [
    "evaluate(dt_Regressor,'Decision Tree',x_test,y_test,ypred_tree)"
   ]
  },
  {
   "cell_type": "code",
   "execution_count": 416,
   "id": "92bc68ec",
   "metadata": {},
   "outputs": [
    {
     "name": "stdout",
     "output_type": "stream",
     "text": [
      "Training Score 0.9487734265151704\n",
      "Testing Score -0.02498467197989762\n"
     ]
    }
   ],
   "source": [
    "m_score(dt_Regressor)"
   ]
  },
  {
   "cell_type": "markdown",
   "id": "6608c7b4",
   "metadata": {},
   "source": [
    "### KNN Regressor"
   ]
  },
  {
   "cell_type": "code",
   "execution_count": 417,
   "id": "0b595f6a",
   "metadata": {},
   "outputs": [],
   "source": [
    "knn_Regressor = KNeighborsRegressor()\n",
    "# Fit the model on the training data\n",
    "knn_Regressor.fit(x_train, y_train)\n",
    "\n",
    "# Make predictions on the test set\n",
    "knn_pred = knn_Regressor.predict(x_test)"
   ]
  },
  {
   "cell_type": "code",
   "execution_count": 418,
   "id": "118ef96b",
   "metadata": {},
   "outputs": [
    {
     "name": "stdout",
     "output_type": "stream",
     "text": [
      "mean squared error 147977640996.7102\n",
      "r2 score 0.41650870176435983\n",
      "mean absolute error 195499.67513966482\n",
      "root mean squared error 384678.62040502095\n"
     ]
    }
   ],
   "source": [
    "evaluate(knn_Regressor,'KNN',x_test,y_test,knn_pred)"
   ]
  },
  {
   "cell_type": "code",
   "execution_count": 419,
   "id": "3bf308dd",
   "metadata": {},
   "outputs": [
    {
     "name": "stdout",
     "output_type": "stream",
     "text": [
      "Training Score 0.655220994522857\n",
      "Testing Score 0.41650870176435983\n"
     ]
    }
   ],
   "source": [
    "m_score(knn_Regressor)"
   ]
  },
  {
   "cell_type": "markdown",
   "id": "0f62ea44",
   "metadata": {},
   "source": [
    "### Support vector Machine"
   ]
  },
  {
   "cell_type": "code",
   "execution_count": 420,
   "id": "589912ed",
   "metadata": {},
   "outputs": [],
   "source": [
    "svm_Regressor = SVR()\n",
    "# Fit the model on the training data\n",
    "svm_Regressor.fit(x_train, y_train)\n",
    "\n",
    "# Make predictions on the test set\n",
    "svm_pred = svm_Regressor.predict(x_test)"
   ]
  },
  {
   "cell_type": "code",
   "execution_count": 421,
   "id": "40669a43",
   "metadata": {},
   "outputs": [
    {
     "name": "stdout",
     "output_type": "stream",
     "text": [
      "mean squared error 269765839745.97684\n",
      "r2 score -0.06371488957921057\n",
      "mean absolute error 277616.51356186287\n",
      "root mean squared error 519389.87258703535\n"
     ]
    }
   ],
   "source": [
    "evaluate(svm_Regressor,'SVM',x_test,y_test,svm_pred)"
   ]
  },
  {
   "cell_type": "code",
   "execution_count": 422,
   "id": "0663cdc7",
   "metadata": {},
   "outputs": [
    {
     "name": "stdout",
     "output_type": "stream",
     "text": [
      "Training Score -0.057739164952447686\n",
      "Testing Score -0.06371488957921057\n"
     ]
    }
   ],
   "source": [
    "m_score(svm_Regressor)"
   ]
  },
  {
   "cell_type": "markdown",
   "id": "8a76a3de",
   "metadata": {},
   "source": [
    "### Random forest"
   ]
  },
  {
   "cell_type": "code",
   "execution_count": 423,
   "id": "01997856",
   "metadata": {},
   "outputs": [
    {
     "data": {
      "text/plain": [
       "RandomForestRegressor(max_depth=8, min_samples_split=50, n_estimators=80)"
      ]
     },
     "execution_count": 423,
     "metadata": {},
     "output_type": "execute_result"
    }
   ],
   "source": [
    "# Building the RF Model\n",
    "rf = RandomForestRegressor(n_estimators=80,min_samples_split=50,max_depth=8)\n",
    "# Fit the model on the training data\n",
    "rf.fit(x_train,y_train)"
   ]
  },
  {
   "cell_type": "code",
   "execution_count": 424,
   "id": "15d46336",
   "metadata": {},
   "outputs": [],
   "source": [
    "ypred_rf=rf.predict(x_test)"
   ]
  },
  {
   "cell_type": "code",
   "execution_count": 425,
   "id": "b2b54fbe",
   "metadata": {},
   "outputs": [
    {
     "name": "stdout",
     "output_type": "stream",
     "text": [
      "mean squared error 120587535398.80774\n",
      "r2 score 0.5245107496851447\n",
      "mean absolute error 182663.31954497774\n",
      "root mean squared error 347257.16032762773\n"
     ]
    }
   ],
   "source": [
    "evaluate(rf,'Random Forest',x_test,y_test,ypred_rf)"
   ]
  },
  {
   "cell_type": "code",
   "execution_count": 426,
   "id": "929c5bdd",
   "metadata": {},
   "outputs": [
    {
     "name": "stdout",
     "output_type": "stream",
     "text": [
      "Training Score 0.5787138283246465\n",
      "Testing Score 0.5245107496851447\n"
     ]
    }
   ],
   "source": [
    "m_score(rf)"
   ]
  },
  {
   "cell_type": "markdown",
   "id": "157269f6",
   "metadata": {},
   "source": [
    "### Ensemble learning techniques"
   ]
  },
  {
   "cell_type": "code",
   "execution_count": 427,
   "id": "b575ce35",
   "metadata": {},
   "outputs": [],
   "source": [
    "tree = DecisionTreeRegressor(random_state=2023,max_depth=3,min_samples_split=8)"
   ]
  },
  {
   "cell_type": "code",
   "execution_count": 428,
   "id": "a7eb708b",
   "metadata": {
    "scrolled": true
   },
   "outputs": [
    {
     "data": {
      "text/plain": [
       "AdaBoostRegressor(base_estimator=DecisionTreeRegressor(max_depth=3,\n",
       "                                                       min_samples_split=8,\n",
       "                                                       random_state=2023),\n",
       "                  n_estimators=80)"
      ]
     },
     "execution_count": 428,
     "metadata": {},
     "output_type": "execute_result"
    }
   ],
   "source": [
    "ada_boost = AdaBoostRegressor(base_estimator=tree,n_estimators=80)\n",
    "# Fit the model on the training data\n",
    "ada_boost.fit(x_train,y_train)"
   ]
  },
  {
   "cell_type": "code",
   "execution_count": 429,
   "id": "879a42ea",
   "metadata": {},
   "outputs": [],
   "source": [
    "# Make predictions on the test set\n",
    "ypred_adab = ada_boost.predict(x_test)"
   ]
  },
  {
   "cell_type": "code",
   "execution_count": 430,
   "id": "93478ecc",
   "metadata": {},
   "outputs": [
    {
     "name": "stdout",
     "output_type": "stream",
     "text": [
      "mean squared error 384121232171.6689\n",
      "r2 score -0.5146301490554483\n",
      "mean absolute error 477049.53661556233\n",
      "root mean squared error 619775.146461738\n"
     ]
    }
   ],
   "source": [
    "evaluate(ada_boost,'Ada boost',x_test,y_test,ypred_adab)"
   ]
  },
  {
   "cell_type": "code",
   "execution_count": 431,
   "id": "ed792812",
   "metadata": {
    "scrolled": true
   },
   "outputs": [
    {
     "name": "stdout",
     "output_type": "stream",
     "text": [
      "Training Score -0.16971399930973696\n",
      "Testing Score -0.5146301490554483\n"
     ]
    }
   ],
   "source": [
    "m_score(ada_boost)"
   ]
  },
  {
   "cell_type": "markdown",
   "id": "83513a9c",
   "metadata": {},
   "source": [
    "### XG boost"
   ]
  },
  {
   "cell_type": "code",
   "execution_count": 432,
   "id": "3cd0d9b3",
   "metadata": {},
   "outputs": [
    {
     "name": "stdout",
     "output_type": "stream",
     "text": [
      "Requirement already satisfied: xgboost in c:\\users\\lenovo1\\anaconda3\\lib\\site-packages (1.7.6)\n",
      "Requirement already satisfied: numpy in c:\\users\\lenovo1\\anaconda3\\lib\\site-packages (from xgboost) (1.21.5)\n",
      "Requirement already satisfied: scipy in c:\\users\\lenovo1\\anaconda3\\lib\\site-packages (from xgboost) (1.7.3)\n"
     ]
    }
   ],
   "source": [
    "!pip install xgboost"
   ]
  },
  {
   "cell_type": "code",
   "execution_count": 433,
   "id": "08eb1234",
   "metadata": {},
   "outputs": [
    {
     "name": "stdout",
     "output_type": "stream",
     "text": [
      "Training Score 0.9162962269076875\n",
      "Testing Score 0.3789965032177939\n",
      "mean squared error 157491007633.54962\n",
      "r2 score 0.3789965032177939\n",
      "mean absolute error 197639.63518571053\n",
      "root mean squared error 396851.3671811521\n"
     ]
    }
   ],
   "source": [
    "import xgboost as xgb\n",
    "\n",
    "# Create an XGBoost Regressor\n",
    "xgb_regressor = xgb.XGBRegressor(n_estimators=100)\n",
    "\n",
    "# Fit the model on the training data\n",
    "xgb_regressor.fit(x_train, y_train)\n",
    "\n",
    "# Make predictions on the test data\n",
    "xgb_pred = xgb_regressor.predict(x_test)\n",
    "m_score(xgb_regressor)\n",
    "evaluate(xgb_regressor,'XG boost',x_test,y_test,xgb_pred)"
   ]
  },
  {
   "cell_type": "markdown",
   "id": "937ef21d",
   "metadata": {},
   "source": [
    "## Comparing different Classification Models "
   ]
  },
  {
   "cell_type": "code",
   "execution_count": 434,
   "id": "0a7cb4d2",
   "metadata": {},
   "outputs": [
    {
     "data": {
      "text/html": [
       "<div>\n",
       "<style scoped>\n",
       "    .dataframe tbody tr th:only-of-type {\n",
       "        vertical-align: middle;\n",
       "    }\n",
       "\n",
       "    .dataframe tbody tr th {\n",
       "        vertical-align: top;\n",
       "    }\n",
       "\n",
       "    .dataframe thead th {\n",
       "        text-align: right;\n",
       "    }\n",
       "</style>\n",
       "<table border=\"1\" class=\"dataframe\">\n",
       "  <thead>\n",
       "    <tr style=\"text-align: right;\">\n",
       "      <th></th>\n",
       "      <th>Model</th>\n",
       "      <th>r2 score</th>\n",
       "      <th>MSE</th>\n",
       "      <th>RMSE</th>\n",
       "      <th>MAE</th>\n",
       "    </tr>\n",
       "  </thead>\n",
       "  <tbody>\n",
       "    <tr>\n",
       "      <th>0</th>\n",
       "      <td>Lin_Reg</td>\n",
       "      <td>0.414878</td>\n",
       "      <td>1.483913e+11</td>\n",
       "      <td>385215.914419</td>\n",
       "      <td>218054.827897</td>\n",
       "    </tr>\n",
       "    <tr>\n",
       "      <th>1</th>\n",
       "      <td>Lasso_Reg</td>\n",
       "      <td>0.414877</td>\n",
       "      <td>1.483915e+11</td>\n",
       "      <td>385216.164811</td>\n",
       "      <td>218054.886241</td>\n",
       "    </tr>\n",
       "    <tr>\n",
       "      <th>2</th>\n",
       "      <td>Ridge_Reg</td>\n",
       "      <td>0.414836</td>\n",
       "      <td>1.484017e+11</td>\n",
       "      <td>385229.465314</td>\n",
       "      <td>218025.286873</td>\n",
       "    </tr>\n",
       "    <tr>\n",
       "      <th>3</th>\n",
       "      <td>Decision Tree</td>\n",
       "      <td>-0.024985</td>\n",
       "      <td>2.599436e+11</td>\n",
       "      <td>509846.618710</td>\n",
       "      <td>240172.294678</td>\n",
       "    </tr>\n",
       "    <tr>\n",
       "      <th>4</th>\n",
       "      <td>KNN</td>\n",
       "      <td>0.416509</td>\n",
       "      <td>1.479776e+11</td>\n",
       "      <td>384678.620405</td>\n",
       "      <td>195499.675140</td>\n",
       "    </tr>\n",
       "    <tr>\n",
       "      <th>5</th>\n",
       "      <td>SVM</td>\n",
       "      <td>-0.063715</td>\n",
       "      <td>2.697658e+11</td>\n",
       "      <td>519389.872587</td>\n",
       "      <td>277616.513562</td>\n",
       "    </tr>\n",
       "    <tr>\n",
       "      <th>6</th>\n",
       "      <td>Random Forest</td>\n",
       "      <td>0.524511</td>\n",
       "      <td>1.205875e+11</td>\n",
       "      <td>347257.160328</td>\n",
       "      <td>182663.319545</td>\n",
       "    </tr>\n",
       "    <tr>\n",
       "      <th>7</th>\n",
       "      <td>Ada boost</td>\n",
       "      <td>-0.514630</td>\n",
       "      <td>3.841212e+11</td>\n",
       "      <td>619775.146462</td>\n",
       "      <td>477049.536616</td>\n",
       "    </tr>\n",
       "    <tr>\n",
       "      <th>8</th>\n",
       "      <td>XG boost</td>\n",
       "      <td>0.378997</td>\n",
       "      <td>1.574910e+11</td>\n",
       "      <td>396851.367181</td>\n",
       "      <td>197639.635186</td>\n",
       "    </tr>\n",
       "  </tbody>\n",
       "</table>\n",
       "</div>"
      ],
      "text/plain": [
       "           Model  r2 score           MSE           RMSE            MAE\n",
       "0        Lin_Reg  0.414878  1.483913e+11  385215.914419  218054.827897\n",
       "1      Lasso_Reg  0.414877  1.483915e+11  385216.164811  218054.886241\n",
       "2      Ridge_Reg  0.414836  1.484017e+11  385229.465314  218025.286873\n",
       "3  Decision Tree -0.024985  2.599436e+11  509846.618710  240172.294678\n",
       "4            KNN  0.416509  1.479776e+11  384678.620405  195499.675140\n",
       "5            SVM -0.063715  2.697658e+11  519389.872587  277616.513562\n",
       "6  Random Forest  0.524511  1.205875e+11  347257.160328  182663.319545\n",
       "7      Ada boost -0.514630  3.841212e+11  619775.146462  477049.536616\n",
       "8       XG boost  0.378997  1.574910e+11  396851.367181  197639.635186"
      ]
     },
     "execution_count": 434,
     "metadata": {},
     "output_type": "execute_result"
    }
   ],
   "source": [
    "Model_performance = pd.DataFrame(a)\n",
    "Model_performance"
   ]
  },
  {
   "cell_type": "code",
   "execution_count": 435,
   "id": "93020696",
   "metadata": {},
   "outputs": [
    {
     "name": "stdout",
     "output_type": "stream",
     "text": [
      "(2861, 13)\n",
      "(716, 13)\n",
      "(3577, 13)\n",
      "(3577,)\n"
     ]
    }
   ],
   "source": [
    "print(x_train.shape)\n",
    "print(x_test.shape)\n",
    "print(x.shape)\n",
    "print(y.shape)"
   ]
  },
  {
   "cell_type": "code",
   "execution_count": 436,
   "id": "d5b38c2e",
   "metadata": {},
   "outputs": [
    {
     "data": {
      "text/plain": [
       "RandomForestRegressor(max_depth=8, min_samples_split=50, n_estimators=80)"
      ]
     },
     "execution_count": 436,
     "metadata": {},
     "output_type": "execute_result"
    }
   ],
   "source": [
    "# Building the RF Model\n",
    "Bestmodel = RandomForestRegressor(n_estimators=80,min_samples_split=50,max_depth=8)\n",
    "# Fit the model on the Actual data\n",
    "Bestmodel.fit(x,y)"
   ]
  },
  {
   "cell_type": "code",
   "execution_count": 437,
   "id": "207786de",
   "metadata": {},
   "outputs": [
    {
     "data": {
      "text/html": [
       "<div>\n",
       "<style scoped>\n",
       "    .dataframe tbody tr th:only-of-type {\n",
       "        vertical-align: middle;\n",
       "    }\n",
       "\n",
       "    .dataframe tbody tr th {\n",
       "        vertical-align: top;\n",
       "    }\n",
       "\n",
       "    .dataframe thead th {\n",
       "        text-align: right;\n",
       "    }\n",
       "</style>\n",
       "<table border=\"1\" class=\"dataframe\">\n",
       "  <thead>\n",
       "    <tr style=\"text-align: right;\">\n",
       "      <th></th>\n",
       "      <th>year</th>\n",
       "      <th>selling_price</th>\n",
       "      <th>km_driven</th>\n",
       "      <th>fuel_Diesel</th>\n",
       "      <th>fuel_Electric</th>\n",
       "      <th>fuel_LPG</th>\n",
       "      <th>fuel_Petrol</th>\n",
       "      <th>seller_type_Individual</th>\n",
       "      <th>seller_type_Trustmark Dealer</th>\n",
       "      <th>transmission_Manual</th>\n",
       "      <th>owner_Fourth &amp; Above Owner</th>\n",
       "      <th>owner_Second Owner</th>\n",
       "      <th>owner_Test Drive Car</th>\n",
       "      <th>owner_Third Owner</th>\n",
       "    </tr>\n",
       "  </thead>\n",
       "  <tbody>\n",
       "    <tr>\n",
       "      <th>0</th>\n",
       "      <td>-1.402566</td>\n",
       "      <td>60000</td>\n",
       "      <td>0.015754</td>\n",
       "      <td>0</td>\n",
       "      <td>0</td>\n",
       "      <td>0</td>\n",
       "      <td>1</td>\n",
       "      <td>1</td>\n",
       "      <td>0</td>\n",
       "      <td>1</td>\n",
       "      <td>0</td>\n",
       "      <td>0</td>\n",
       "      <td>0</td>\n",
       "      <td>0</td>\n",
       "    </tr>\n",
       "    <tr>\n",
       "      <th>1</th>\n",
       "      <td>-1.402566</td>\n",
       "      <td>135000</td>\n",
       "      <td>-0.404650</td>\n",
       "      <td>0</td>\n",
       "      <td>0</td>\n",
       "      <td>0</td>\n",
       "      <td>1</td>\n",
       "      <td>1</td>\n",
       "      <td>0</td>\n",
       "      <td>1</td>\n",
       "      <td>0</td>\n",
       "      <td>0</td>\n",
       "      <td>0</td>\n",
       "      <td>0</td>\n",
       "    </tr>\n",
       "    <tr>\n",
       "      <th>2</th>\n",
       "      <td>-0.226418</td>\n",
       "      <td>600000</td>\n",
       "      <td>0.646360</td>\n",
       "      <td>1</td>\n",
       "      <td>0</td>\n",
       "      <td>0</td>\n",
       "      <td>0</td>\n",
       "      <td>1</td>\n",
       "      <td>0</td>\n",
       "      <td>1</td>\n",
       "      <td>0</td>\n",
       "      <td>0</td>\n",
       "      <td>0</td>\n",
       "      <td>0</td>\n",
       "    </tr>\n",
       "    <tr>\n",
       "      <th>3</th>\n",
       "      <td>0.949731</td>\n",
       "      <td>250000</td>\n",
       "      <td>-0.488731</td>\n",
       "      <td>0</td>\n",
       "      <td>0</td>\n",
       "      <td>0</td>\n",
       "      <td>1</td>\n",
       "      <td>1</td>\n",
       "      <td>0</td>\n",
       "      <td>1</td>\n",
       "      <td>0</td>\n",
       "      <td>0</td>\n",
       "      <td>0</td>\n",
       "      <td>0</td>\n",
       "    </tr>\n",
       "    <tr>\n",
       "      <th>4</th>\n",
       "      <td>0.244042</td>\n",
       "      <td>450000</td>\n",
       "      <td>1.508188</td>\n",
       "      <td>1</td>\n",
       "      <td>0</td>\n",
       "      <td>0</td>\n",
       "      <td>0</td>\n",
       "      <td>1</td>\n",
       "      <td>0</td>\n",
       "      <td>1</td>\n",
       "      <td>0</td>\n",
       "      <td>1</td>\n",
       "      <td>0</td>\n",
       "      <td>0</td>\n",
       "    </tr>\n",
       "  </tbody>\n",
       "</table>\n",
       "</div>"
      ],
      "text/plain": [
       "       year  selling_price  km_driven  fuel_Diesel  fuel_Electric  fuel_LPG  \\\n",
       "0 -1.402566          60000   0.015754            0              0         0   \n",
       "1 -1.402566         135000  -0.404650            0              0         0   \n",
       "2 -0.226418         600000   0.646360            1              0         0   \n",
       "3  0.949731         250000  -0.488731            0              0         0   \n",
       "4  0.244042         450000   1.508188            1              0         0   \n",
       "\n",
       "   fuel_Petrol  seller_type_Individual  seller_type_Trustmark Dealer  \\\n",
       "0            1                       1                             0   \n",
       "1            1                       1                             0   \n",
       "2            0                       1                             0   \n",
       "3            1                       1                             0   \n",
       "4            0                       1                             0   \n",
       "\n",
       "   transmission_Manual  owner_Fourth & Above Owner  owner_Second Owner  \\\n",
       "0                    1                           0                   0   \n",
       "1                    1                           0                   0   \n",
       "2                    1                           0                   0   \n",
       "3                    1                           0                   0   \n",
       "4                    1                           0                   1   \n",
       "\n",
       "   owner_Test Drive Car  owner_Third Owner  \n",
       "0                     0                  0  \n",
       "1                     0                  0  \n",
       "2                     0                  0  \n",
       "3                     0                  0  \n",
       "4                     0                  0  "
      ]
     },
     "execution_count": 437,
     "metadata": {},
     "output_type": "execute_result"
    }
   ],
   "source": [
    "car_encoded.head()"
   ]
  },
  {
   "cell_type": "code",
   "execution_count": 438,
   "id": "6e174801",
   "metadata": {},
   "outputs": [
    {
     "data": {
      "text/plain": [
       "(20, 14)"
      ]
     },
     "execution_count": 438,
     "metadata": {},
     "output_type": "execute_result"
    }
   ],
   "source": [
    "#Predict on New Data\n",
    "#Create a new dataset with 20 random data points from the car details dataset\n",
    "new_data = car_encoded.sample(n=20, random_state=2023)\n",
    "new_data.shape"
   ]
  },
  {
   "cell_type": "code",
   "execution_count": 439,
   "id": "84a7301e",
   "metadata": {},
   "outputs": [
    {
     "data": {
      "text/plain": [
       "349000    1\n",
       "325000    1\n",
       "150000    1\n",
       "725000    1\n",
       "500000    1\n",
       "520000    1\n",
       "190000    1\n",
       "170000    1\n",
       "70000     1\n",
       "300000    1\n",
       "470000    1\n",
       "250999    1\n",
       "700000    1\n",
       "430000    1\n",
       "110000    1\n",
       "200000    1\n",
       "340000    1\n",
       "950000    1\n",
       "345000    1\n",
       "480000    1\n",
       "Name: selling_price, dtype: int64"
      ]
     },
     "execution_count": 439,
     "metadata": {},
     "output_type": "execute_result"
    }
   ],
   "source": [
    "new_data['selling_price'].value_counts()"
   ]
  },
  {
   "cell_type": "code",
   "execution_count": 440,
   "id": "28814e31",
   "metadata": {},
   "outputs": [],
   "source": [
    "new_data.to_csv('sample_major.csv')"
   ]
  },
  {
   "cell_type": "code",
   "execution_count": 441,
   "id": "4d54f598",
   "metadata": {},
   "outputs": [],
   "source": [
    "# Assuming the saved model is loaded as 'model'\n",
    "X_test = new_data.drop(\"selling_price\", axis=1)  # Assuming \"selling_price\" is the target variable\n",
    "Y_test = new_data[\"selling_price\"]"
   ]
  },
  {
   "cell_type": "markdown",
   "id": "cca24a6a",
   "metadata": {},
   "source": [
    "# Saving and Loading the Best Model:"
   ]
  },
  {
   "cell_type": "code",
   "execution_count": 442,
   "id": "e75a0dc2",
   "metadata": {},
   "outputs": [],
   "source": [
    "import joblib\n",
    "# Save the best model\n",
    "joblib.dump(Bestmodel, 'best_model.joblib')\n",
    "# Load the model\n",
    "loaded_model = joblib.load('best_model.joblib')"
   ]
  },
  {
   "cell_type": "code",
   "execution_count": 443,
   "id": "71110b86",
   "metadata": {},
   "outputs": [],
   "source": [
    "# Make predictions using the loaded model\n",
    "predictions = loaded_model.predict(X_test)"
   ]
  },
  {
   "cell_type": "code",
   "execution_count": 444,
   "id": "bd6ff2e4",
   "metadata": {},
   "outputs": [
    {
     "name": "stdout",
     "output_type": "stream",
     "text": [
      "Predictions: [355453.5395015  520735.09664567 651560.56114446 890139.25552781\n",
      " 427619.96166319 200504.71369146 370327.79548341 380353.78695686\n",
      " 690186.41979967 373387.10007141 349921.41437594 326925.24532895\n",
      "  99136.86114089 285015.43197857 351308.37381524 510275.16943267\n",
      " 402794.11667592 789822.5019928  400273.72613086 552548.35429513]\n"
     ]
    }
   ],
   "source": [
    "print('Predictions:', predictions)"
   ]
  },
  {
   "cell_type": "code",
   "execution_count": 445,
   "id": "5da2210f",
   "metadata": {},
   "outputs": [
    {
     "name": "stdout",
     "output_type": "stream",
     "text": [
      "      Actual Selling Price  Predicted Selling Price\n",
      "2003                349000            355453.539501\n",
      "1395                325000            520735.096646\n",
      "2085                345000            651560.561144\n",
      "4139                950000            890139.255528\n",
      "1063                340000            427619.961663\n",
      "1918                200000            200504.713691\n",
      "658                 110000            370327.795483\n",
      "2164                430000            380353.786957\n",
      "1817                700000            690186.419800\n",
      "2027                250999            373387.100071\n",
      "2631                470000            349921.414376\n",
      "243                 300000            326925.245329\n",
      "2287                 70000             99136.861141\n",
      "1226                170000            285015.431979\n",
      "1266                190000            351308.373815\n",
      "1099                520000            510275.169433\n",
      "1486                500000            402794.116676\n",
      "1148                725000            789822.501993\n",
      "812                 150000            400273.726131\n",
      "1567                480000            552548.354295\n"
     ]
    }
   ],
   "source": [
    "results = pd.DataFrame({\"Actual Selling Price\": Y_test, \"Predicted Selling Price\": predictions})\n",
    "print(results)"
   ]
  }
 ],
 "metadata": {
  "kernelspec": {
   "display_name": "Python 3 (ipykernel)",
   "language": "python",
   "name": "python3"
  },
  "language_info": {
   "codemirror_mode": {
    "name": "ipython",
    "version": 3
   },
   "file_extension": ".py",
   "mimetype": "text/x-python",
   "name": "python",
   "nbconvert_exporter": "python",
   "pygments_lexer": "ipython3",
   "version": "3.9.12"
  }
 },
 "nbformat": 4,
 "nbformat_minor": 5
}
